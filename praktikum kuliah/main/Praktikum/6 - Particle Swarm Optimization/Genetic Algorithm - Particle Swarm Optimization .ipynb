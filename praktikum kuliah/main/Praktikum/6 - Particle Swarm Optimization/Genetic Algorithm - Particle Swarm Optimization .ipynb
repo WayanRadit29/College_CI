{
 "cells": [
  {
   "cell_type": "markdown",
   "metadata": {},
   "source": [
    "# Particle Swarm Optimization (PSO)"
   ]
  },
  {
   "cell_type": "markdown",
   "metadata": {},
   "source": [
    "## Method description:"
   ]
  },
  {
   "cell_type": "markdown",
   "metadata": {},
   "source": [
    "[Wikipédia - Particle swarm optimization](https://en.wikipedia.org/wiki/Particle_swarm_optimization):\n",
    "\n",
    "> In computational science, particle swarm optimization (PSO) [1] is a computational method that optimizes a problem by iteratively trying to improve a candidate solution with regard to a given measure of quality. It solves a problem by having a population of candidate solutions, here dubbed particles, and moving these particles around in the search-space according to simple mathematical formulae over the particle's position and velocity. Each particle's movement is influenced by its local best known position, but is also guided toward the best known positions in the search-space, which are updated as better positions are found by other particles. This is expected to move the swarm toward the best solutions.\n",
    "\n",
    "[1] GOLBON-HAGHIGHI, Mohammad-Hossein et al. Pattern Synthesis for the Cylindrical Polarimetric Phased Array Radar (CPPAR). Progress In Electromagnetics Research, v. 66, p. 87-98, 2018."
   ]
  },
  {
   "cell_type": "markdown",
   "metadata": {
    "ExecuteTime": {
     "end_time": "2018-10-20T13:22:31.623978Z",
     "start_time": "2018-10-20T13:22:31.503699Z"
    }
   },
   "source": [
    "A particle swarm searching for the global minimum of a function:\n",
    "\n",
    "![ChessUrl](figures/ParticleSwarmArrowsAnimation.gif)"
   ]
  },
  {
   "cell_type": "markdown",
   "metadata": {},
   "source": [
    "## Pseudocode:\n",
    "\n",
    "Let $S$ be the number of particles in the swarm, each having a position $x_i \\in \\mathbb{R}^{n}$ in the search-space and a velocity $v_i \\in \\mathbb{R}^{n}$. Let $p_i$ be the best known position of particle $i$ and let $g$ be the best known position of the entire swarm. A basic PSO algorithm is then:\n",
    "   \n",
    "\n",
    "**for** each particle $i = 1, ..., S$ **do** <br>\n",
    "&emsp;Initialize the particle's position with a uniformly distributed random vector: $x_i \\sim U(b_{lo}, b_{up}$) <br>\n",
    "&emsp;Initialize the particle's best known position to its initial position: $p_i ← x_i$ <br>\n",
    "&emsp;**if** $f(p_i) < f(g)$ **then** <br>\n",
    "&emsp;&emsp;update the swarm's best known  position: $g ← p_i$ <br>\n",
    "&emsp;Initialize the particle's velocity: $v_i \\sim U(-\\mid b_{up}-b_{lo} \\mid, \\mid b_{up}-b_{lo} \\mid)$ <br>\n",
    "**while** a termination criterion is not met **do**: <br>\n",
    "&emsp;**for** each particle $i = 1, ..., S$ **do** <br>\n",
    "&emsp;&emsp;   **for** each dimension $d = 1, ..., n$ **do** <br>\n",
    "&emsp;&emsp;&emsp;      Pick random numbers: $r_p, r_g \\sim U(0,1)$ <br>\n",
    "&emsp;&emsp;&emsp;      Update the particle's velocity: $v_{i,d} ← \\omega v_{i,d} + \\varphi_p r_p (p_{i,d}-x_{i,d}) + \\varphi_g r_g (g_d - x_{i, d})$ <br>\n",
    "&emsp;&emsp;   Update the particle's position: $x_i ← x_i + v_i$ <br>\n",
    "&emsp;&emsp;   **if** $f(x_i) < f(p_i)$ **then** <br>\n",
    "&emsp;&emsp;&emsp;      Update the particle's best known position: $p_i ← x_i$ <br>\n",
    "&emsp;&emsp;&emsp;      **if** $f(p_i) < f(g)$ **then** <br>\n",
    "&emsp;&emsp;&emsp;         Update the swarm's best known position: $g ← p_i$ <br>\n",
    "\n",
    "\n",
    "The values $b_{lo}$ and $b_{up}$ are respectively the lower and upper boundaries of the search-space. The termination criterion can be the number of iterations performed, or a solution where the adequate objective function value is found.[11] The parameters $\\omega$, $\\varphi_p$, and $\\varphi_g$ are selected by the practitioner and control the behaviour and efficacy of the PSO method"
   ]
  },
  {
   "cell_type": "markdown",
   "metadata": {},
   "source": [
    "The function that will be used in used in this notebook is:\n",
    "\n",
    "$\\large f(x) = x (Sin(10\\pi x)) + 1$\n",
    "\n",
    "where $[-1 <= x <= 2]$.\n",
    "\n",
    "We try to maximize the $f(x)$, where $x$ is limited between $2$ and $-1$."
   ]
  },
  {
   "cell_type": "markdown",
   "metadata": {},
   "source": [
    "# Execution of PSO"
   ]
  },
  {
   "cell_type": "code",
   "execution_count": 1,
   "metadata": {
    "ExecuteTime": {
     "end_time": "2018-10-29T22:09:09.597094Z",
     "start_time": "2018-10-29T22:09:09.132422Z"
    }
   },
   "outputs": [],
   "source": [
    "# Third-party libraries\n",
    "import numpy as np\n",
    "from numpy import absolute\n",
    "from numpy.random import uniform, choice\n",
    "from random import randint\n",
    "\n",
    "import seaborn as sns\n",
    "import matplotlib.pyplot as plt\n",
    "\n",
    "from IPython.display import HTML, display\n",
    "from pprint import pprint\n",
    "from tabulate import tabulate"
   ]
  },
  {
   "cell_type": "code",
   "execution_count": 2,
   "metadata": {
    "ExecuteTime": {
     "end_time": "2018-10-29T22:09:09.601568Z",
     "start_time": "2018-10-29T22:09:09.598631Z"
    }
   },
   "outputs": [],
   "source": [
    "# Codes Implemented\n",
    "from python_codes.evaluation import fitness_fx\n",
    "from python_codes.particle import Particle"
   ]
  },
  {
   "cell_type": "code",
   "execution_count": 3,
   "metadata": {
    "ExecuteTime": {
     "end_time": "2018-10-29T22:09:09.611768Z",
     "start_time": "2018-10-29T22:09:09.602857Z"
    }
   },
   "outputs": [],
   "source": [
    "# Algorithm parameters\n",
    "(b_lo, b_up) = (-1, 2)  # Lower and up boundaries\n",
    "n_dimensions = 5        # Number of genes per particle\n",
    "n_particles = 100       # Number of particles in population\n",
    "swam_size = 2           # Number of neighbors for each particle (swarm)\n",
    "n_iters = 500           # Number of iterations (criterion)\n",
    "g = None                # Best known position (vector)\n",
    "omega = 1               # Omega contant\n",
    "phi_p = 0.5             # Phi p constant\n",
    "phi_g = 0.5             # Phi g constant"
   ]
  },
  {
   "cell_type": "markdown",
   "metadata": {},
   "source": [
    "Next we generate the initial population:"
   ]
  },
  {
   "cell_type": "code",
   "execution_count": 4,
   "metadata": {
    "ExecuteTime": {
     "end_time": "2018-10-29T22:09:09.638655Z",
     "start_time": "2018-10-29T22:09:09.613602Z"
    }
   },
   "outputs": [],
   "source": [
    "# Generate particle population\n",
    "particle_pop = []\n",
    "for i in range(n_particles):\n",
    "    part_velocity = uniform(-absolute(b_lo - b_up), absolute(b_lo - b_up), size=n_dimensions)\n",
    "    part_position = uniform(low=b_lo, high=b_up, size=n_dimensions)\n",
    "    best_position = part_position\n",
    "    \n",
    "    if g is not None:\n",
    "        if fitness_fx(best_position).sum() > fitness_fx(g).sum():\n",
    "            g = best_position.copy()\n",
    "    else:\n",
    "        g = best_position.copy()\n",
    "\n",
    "    p = Particle(position=part_position, velocity=part_velocity, best_position=best_position)\n",
    "    particle_pop.append(p)\n",
    "    \n",
    "# Define the swarm of each particle\n",
    "for particle in particle_pop:\n",
    "    neighbors = choice(particle_pop, size=swam_size)\n",
    "    particle.neighbors_particles = neighbors"
   ]
  },
  {
   "cell_type": "code",
   "execution_count": 10,
   "metadata": {
    "ExecuteTime": {
     "end_time": "2018-10-29T22:13:53.383050Z",
     "start_time": "2018-10-29T22:13:53.373454Z"
    }
   },
   "outputs": [
    {
     "name": "stdout",
     "output_type": "stream",
     "text": [
      "Best known position (g) in the initial population: [1.66226588 1.63457626 1.82589829 1.87030108 0.86681045]\n",
      "f(g):  11.565157057023557\n"
     ]
    }
   ],
   "source": [
    "print('Best known position (g) in the initial population:', g)\n",
    "print('f(g): ', fitness_fx(g).sum())"
   ]
  },
  {
   "cell_type": "markdown",
   "metadata": {},
   "source": [
    "Now that we've a initial population, the algorithm its execute. That algorithm its based on the pseudocode, shown in the beginning of the notebook:"
   ]
  },
  {
   "cell_type": "code",
   "execution_count": 6,
   "metadata": {
    "ExecuteTime": {
     "end_time": "2018-10-29T22:09:11.605049Z",
     "start_time": "2018-10-29T22:09:09.645160Z"
    }
   },
   "outputs": [],
   "source": [
    "best_per_it = []\n",
    "\n",
    "for it in range(n_iters):\n",
    "    for particle in particle_pop:\n",
    "        # Get the current values\n",
    "        tmp_vel = particle.velocity.copy()\n",
    "        tmp_position = particle.position.copy()\n",
    "        tmp_best_pos = particle.best_position.copy()\n",
    "\n",
    "        # Update particle velociy\n",
    "        new_velocity = []\n",
    "        for d in range(n_dimensions):\n",
    "            r_p, r_g = uniform(), uniform()\n",
    "            v_id = omega * tmp_vel[d] + phi_p * r_p * (\n",
    "                tmp_best_pos[d] - tmp_position[d]) + phi_g * r_g * (g[d] - tmp_position[d])\n",
    "            new_velocity.append(v_id)\n",
    "        particle.velocity = np.array(new_velocity)\n",
    "\n",
    "        # Update particle position\n",
    "        tmp_position += new_velocity\n",
    "        # If any dimension overcome the limits,\n",
    "        # other values in the limits its generate for this dimension.\n",
    "        tmp_position = [x if (-1 <= x <= 2) else uniform(low=b_lo, high=b_up) for x in tmp_position]\n",
    "        particle.position = np.array(tmp_position)\n",
    "        \n",
    "        # Update best positions\n",
    "        if fitness_fx(particle.position).sum() > fitness_fx(particle.best_position).sum():\n",
    "            # Update the particles best known position\n",
    "            particle.best_position = particle.position\n",
    "            \n",
    "            if fitness_fx(particle.best_position).sum() > fitness_fx(g).sum():\n",
    "                # Update the swarms best known position\n",
    "                g = particle.best_position\n",
    "                \n",
    "    best_per_it.append(g)"
   ]
  },
  {
   "cell_type": "code",
   "execution_count": 11,
   "metadata": {
    "ExecuteTime": {
     "end_time": "2018-10-29T22:14:01.891593Z",
     "start_time": "2018-10-29T22:14:01.885844Z"
    }
   },
   "outputs": [
    {
     "name": "stdout",
     "output_type": "stream",
     "text": [
      "Best known position (g) after 500 iterations: [1.66226588 1.63457626 1.82589829 1.87030108 0.86681045]\n",
      "f(g):  11.565157057023557\n"
     ]
    }
   ],
   "source": [
    "print('Best known position (g) after 500 iterations:', g)\n",
    "print('f(g): ', fitness_fx(g).sum())"
   ]
  },
  {
   "cell_type": "markdown",
   "metadata": {},
   "source": [
    "Next, we show the results by iteration. We can notice that the g position merge to a local minima."
   ]
  },
  {
   "cell_type": "code",
   "execution_count": 8,
   "metadata": {
    "ExecuteTime": {
     "end_time": "2018-10-29T22:09:22.093729Z",
     "start_time": "2018-10-29T22:09:21.961274Z"
    }
   },
   "outputs": [
    {
     "data": {
      "image/png": "[encoded data removed]",
      "text/plain": [
       "<Figure size 640x480 with 1 Axes>"
      ]
     },
     "metadata": {},
     "output_type": "display_data"
    }
   ],
   "source": [
    "sns.set_style('darkgrid')\n",
    "\n",
    "plt.figure(num=None, figsize=(8, 6), dpi=80, facecolor='w', edgecolor='k')\n",
    "\n",
    "y = np.array([fitness_fx(x).sum() for x in best_per_it])\n",
    "x = np.array(range(1, len(y)+1))\n",
    "\n",
    "sns.regplot(x=x, y=y, fit_reg=False)\n",
    "plt.title('Best Fitness by Iteration', fontsize=16)\n",
    "plt.xlabel('Iteration', fontsize=14)\n",
    "plt.ylabel('Fitness - f(g)', fontsize=14)\n",
    "plt.yticks(fontsize=12)\n",
    "plt.xticks(fontsize=12)\n",
    "plt.show()"
   ]
  },
  {
   "cell_type": "markdown",
   "metadata": {
    "heading_collapsed": true
   },
   "source": [
    "# WIP"
   ]
  },
  {
   "cell_type": "code",
   "execution_count": null,
   "metadata": {
    "ExecuteTime": {
     "end_time": "2018-10-29T21:56:42.221526Z",
     "start_time": "2018-10-29T21:56:31.142691Z"
    },
    "hidden": true
   },
   "outputs": [],
   "source": [
    "# WIP: function to show points moving in each iteration...\n",
    "%matplotlib inline\n",
    "import time\n",
    "import pylab as pl\n",
    "from IPython import display\n",
    "\n",
    "for i in range(10):\n",
    "    pl.plot(pl.randn(100))\n",
    "    display.clear_output(wait=True)\n",
    "    display.display(pl.gcf())\n",
    "    time.sleep(1.0)"
   ]
  }
 ],
 "metadata": {
  "kernelspec": {
   "display_name": "Python 3",
   "language": "python",
   "name": "python3"
  },
  "language_info": {
   "codemirror_mode": {
    "name": "ipython",
    "version": 3
   },
   "file_extension": ".py",
   "mimetype": "text/x-python",
   "name": "python",
   "nbconvert_exporter": "python",
   "pygments_lexer": "ipython3",
   "version": "3.6.4"
  },
  "toc": {
   "base_numbering": 1,
   "nav_menu": {},
   "number_sections": true,
   "sideBar": true,
   "skip_h1_title": false,
   "title_cell": "Table of Contents",
   "title_sidebar": "Contents",
   "toc_cell": false,
   "toc_position": {},
   "toc_section_display": true,
   "toc_window_display": false
  },
  "varInspector": {
   "cols": {
    "lenName": 16,
    "lenType": 16,
    "lenVar": 40
   },
   "kernels_config": {
    "python": {
     "delete_cmd_postfix": "",
     "delete_cmd_prefix": "del ",
     "library": "var_list.py",
     "varRefreshCmd": "print(var_dic_list())"
    },
    "r": {
     "delete_cmd_postfix": ") ",
     "delete_cmd_prefix": "rm(",
     "library": "var_list.r",
     "varRefreshCmd": "cat(var_dic_list()) "
    }
   },
   "types_to_exclude": [
    "module",
    "function",
    "builtin_function_or_method",
    "instance",
    "_Feature"
   ],
   "window_display": false
  }
 },
 "nbformat": 4,
 "nbformat_minor": 2
}
