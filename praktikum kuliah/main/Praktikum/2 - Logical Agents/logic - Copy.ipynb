{
 "cells": [
  {
   "cell_type": "markdown",
   "metadata": {},
   "source": [
    "Instalasi dan Import Library\n",
    "\n",
    "Pada tahap awal praktikum, perlu dipastikan seluruh library yang digunakan sudah tersedia. Oleh karena itu dilakukan proses instalasi paket tambahan serta import fungsi-fungsi yang diperlukan di notebook."
   ]
  },
  {
   "cell_type": "code",
   "execution_count": 2,
   "metadata": {
    "collapsed": true
   },
   "outputs": [
    {
     "name": "stdout",
     "output_type": "stream",
     "text": [
      "Requirement already satisfied: ipythonblocks in d:\\ai_journey\\computational_intelligence\\ci\\lib\\site-packages (1.9.1)\n",
      "Requirement already satisfied: ipython>=4.0 in d:\\ai_journey\\computational_intelligence\\ci\\lib\\site-packages (from ipythonblocks) (9.5.0)\n",
      "Requirement already satisfied: notebook>=4.0 in d:\\ai_journey\\computational_intelligence\\ci\\lib\\site-packages (from ipythonblocks) (7.4.5)\n",
      "Requirement already satisfied: requests>=1.0 in d:\\ai_journey\\computational_intelligence\\ci\\lib\\site-packages (from ipythonblocks) (2.32.5)\n",
      "Requirement already satisfied: colorama in d:\\ai_journey\\computational_intelligence\\ci\\lib\\site-packages (from ipython>=4.0->ipythonblocks) (0.4.6)\n",
      "Requirement already satisfied: decorator in d:\\ai_journey\\computational_intelligence\\ci\\lib\\site-packages (from ipython>=4.0->ipythonblocks) (5.2.1)\n",
      "Requirement already satisfied: ipython-pygments-lexers in d:\\ai_journey\\computational_intelligence\\ci\\lib\\site-packages (from ipython>=4.0->ipythonblocks) (1.1.1)\n",
      "Requirement already satisfied: jedi>=0.16 in d:\\ai_journey\\computational_intelligence\\ci\\lib\\site-packages (from ipython>=4.0->ipythonblocks) (0.19.2)\n",
      "Requirement already satisfied: matplotlib-inline in d:\\ai_journey\\computational_intelligence\\ci\\lib\\site-packages (from ipython>=4.0->ipythonblocks) (0.1.7)\n",
      "Requirement already satisfied: prompt_toolkit<3.1.0,>=3.0.41 in d:\\ai_journey\\computational_intelligence\\ci\\lib\\site-packages (from ipython>=4.0->ipythonblocks) (3.0.52)\n",
      "Requirement already satisfied: pygments>=2.4.0 in d:\\ai_journey\\computational_intelligence\\ci\\lib\\site-packages (from ipython>=4.0->ipythonblocks) (2.19.2)\n",
      "Requirement already satisfied: stack_data in d:\\ai_journey\\computational_intelligence\\ci\\lib\\site-packages (from ipython>=4.0->ipythonblocks) (0.6.3)\n",
      "Requirement already satisfied: traitlets>=5.13.0 in d:\\ai_journey\\computational_intelligence\\ci\\lib\\site-packages (from ipython>=4.0->ipythonblocks) (5.14.3)\n",
      "Requirement already satisfied: wcwidth in d:\\ai_journey\\computational_intelligence\\ci\\lib\\site-packages (from prompt_toolkit<3.1.0,>=3.0.41->ipython>=4.0->ipythonblocks) (0.2.13)\n",
      "Requirement already satisfied: parso<0.9.0,>=0.8.4 in d:\\ai_journey\\computational_intelligence\\ci\\lib\\site-packages (from jedi>=0.16->ipython>=4.0->ipythonblocks) (0.8.5)\n",
      "Requirement already satisfied: jupyter-server<3,>=2.4.0 in d:\\ai_journey\\computational_intelligence\\ci\\lib\\site-packages (from notebook>=4.0->ipythonblocks) (2.17.0)\n",
      "Requirement already satisfied: jupyterlab-server<3,>=2.27.1 in d:\\ai_journey\\computational_intelligence\\ci\\lib\\site-packages (from notebook>=4.0->ipythonblocks) (2.27.3)\n",
      "Requirement already satisfied: jupyterlab<4.5,>=4.4.5 in d:\\ai_journey\\computational_intelligence\\ci\\lib\\site-packages (from notebook>=4.0->ipythonblocks) (4.4.7)\n",
      "Requirement already satisfied: notebook-shim<0.3,>=0.2 in d:\\ai_journey\\computational_intelligence\\ci\\lib\\site-packages (from notebook>=4.0->ipythonblocks) (0.2.4)\n",
      "Requirement already satisfied: tornado>=6.2.0 in d:\\ai_journey\\computational_intelligence\\ci\\lib\\site-packages (from notebook>=4.0->ipythonblocks) (6.5.2)\n",
      "Requirement already satisfied: anyio>=3.1.0 in d:\\ai_journey\\computational_intelligence\\ci\\lib\\site-packages (from jupyter-server<3,>=2.4.0->notebook>=4.0->ipythonblocks) (4.10.0)\n",
      "Requirement already satisfied: argon2-cffi>=21.1 in d:\\ai_journey\\computational_intelligence\\ci\\lib\\site-packages (from jupyter-server<3,>=2.4.0->notebook>=4.0->ipythonblocks) (25.1.0)\n",
      "Requirement already satisfied: jinja2>=3.0.3 in d:\\ai_journey\\computational_intelligence\\ci\\lib\\site-packages (from jupyter-server<3,>=2.4.0->notebook>=4.0->ipythonblocks) (3.1.6)\n",
      "Requirement already satisfied: jupyter-client>=7.4.4 in d:\\ai_journey\\computational_intelligence\\ci\\lib\\site-packages (from jupyter-server<3,>=2.4.0->notebook>=4.0->ipythonblocks) (8.6.3)\n",
      "Requirement already satisfied: jupyter-core!=5.0.*,>=4.12 in d:\\ai_journey\\computational_intelligence\\ci\\lib\\site-packages (from jupyter-server<3,>=2.4.0->notebook>=4.0->ipythonblocks) (5.8.1)\n",
      "Requirement already satisfied: jupyter-events>=0.11.0 in d:\\ai_journey\\computational_intelligence\\ci\\lib\\site-packages (from jupyter-server<3,>=2.4.0->notebook>=4.0->ipythonblocks) (0.12.0)\n",
      "Requirement already satisfied: jupyter-server-terminals>=0.4.4 in d:\\ai_journey\\computational_intelligence\\ci\\lib\\site-packages (from jupyter-server<3,>=2.4.0->notebook>=4.0->ipythonblocks) (0.5.3)\n",
      "Requirement already satisfied: nbconvert>=6.4.4 in d:\\ai_journey\\computational_intelligence\\ci\\lib\\site-packages (from jupyter-server<3,>=2.4.0->notebook>=4.0->ipythonblocks) (7.16.6)\n",
      "Requirement already satisfied: nbformat>=5.3.0 in d:\\ai_journey\\computational_intelligence\\ci\\lib\\site-packages (from jupyter-server<3,>=2.4.0->notebook>=4.0->ipythonblocks) (5.10.4)\n",
      "Requirement already satisfied: packaging>=22.0 in d:\\ai_journey\\computational_intelligence\\ci\\lib\\site-packages (from jupyter-server<3,>=2.4.0->notebook>=4.0->ipythonblocks) (25.0)\n",
      "Requirement already satisfied: prometheus-client>=0.9 in d:\\ai_journey\\computational_intelligence\\ci\\lib\\site-packages (from jupyter-server<3,>=2.4.0->notebook>=4.0->ipythonblocks) (0.22.1)\n",
      "Requirement already satisfied: pywinpty>=2.0.1 in d:\\ai_journey\\computational_intelligence\\ci\\lib\\site-packages (from jupyter-server<3,>=2.4.0->notebook>=4.0->ipythonblocks) (3.0.0)\n",
      "Requirement already satisfied: pyzmq>=24 in d:\\ai_journey\\computational_intelligence\\ci\\lib\\site-packages (from jupyter-server<3,>=2.4.0->notebook>=4.0->ipythonblocks) (27.0.2)\n",
      "Requirement already satisfied: send2trash>=1.8.2 in d:\\ai_journey\\computational_intelligence\\ci\\lib\\site-packages (from jupyter-server<3,>=2.4.0->notebook>=4.0->ipythonblocks) (1.8.3)\n",
      "Requirement already satisfied: terminado>=0.8.3 in d:\\ai_journey\\computational_intelligence\\ci\\lib\\site-packages (from jupyter-server<3,>=2.4.0->notebook>=4.0->ipythonblocks) (0.18.1)\n",
      "Requirement already satisfied: websocket-client>=1.7 in d:\\ai_journey\\computational_intelligence\\ci\\lib\\site-packages (from jupyter-server<3,>=2.4.0->notebook>=4.0->ipythonblocks) (1.8.0)\n",
      "Requirement already satisfied: async-lru>=1.0.0 in d:\\ai_journey\\computational_intelligence\\ci\\lib\\site-packages (from jupyterlab<4.5,>=4.4.5->notebook>=4.0->ipythonblocks) (2.0.5)\n",
      "Requirement already satisfied: httpx<1,>=0.25.0 in d:\\ai_journey\\computational_intelligence\\ci\\lib\\site-packages (from jupyterlab<4.5,>=4.4.5->notebook>=4.0->ipythonblocks) (0.28.1)\n",
      "Requirement already satisfied: ipykernel!=6.30.0,>=6.5.0 in d:\\ai_journey\\computational_intelligence\\ci\\lib\\site-packages (from jupyterlab<4.5,>=4.4.5->notebook>=4.0->ipythonblocks) (6.30.1)\n",
      "Requirement already satisfied: jupyter-lsp>=2.0.0 in d:\\ai_journey\\computational_intelligence\\ci\\lib\\site-packages (from jupyterlab<4.5,>=4.4.5->notebook>=4.0->ipythonblocks) (2.3.0)\n",
      "Requirement already satisfied: setuptools>=41.1.0 in d:\\ai_journey\\computational_intelligence\\ci\\lib\\site-packages (from jupyterlab<4.5,>=4.4.5->notebook>=4.0->ipythonblocks) (80.9.0)\n",
      "Requirement already satisfied: certifi in d:\\ai_journey\\computational_intelligence\\ci\\lib\\site-packages (from httpx<1,>=0.25.0->jupyterlab<4.5,>=4.4.5->notebook>=4.0->ipythonblocks) (2025.8.3)\n",
      "Requirement already satisfied: httpcore==1.* in d:\\ai_journey\\computational_intelligence\\ci\\lib\\site-packages (from httpx<1,>=0.25.0->jupyterlab<4.5,>=4.4.5->notebook>=4.0->ipythonblocks) (1.0.9)\n",
      "Requirement already satisfied: idna in d:\\ai_journey\\computational_intelligence\\ci\\lib\\site-packages (from httpx<1,>=0.25.0->jupyterlab<4.5,>=4.4.5->notebook>=4.0->ipythonblocks) (3.10)\n",
      "Requirement already satisfied: h11>=0.16 in d:\\ai_journey\\computational_intelligence\\ci\\lib\\site-packages (from httpcore==1.*->httpx<1,>=0.25.0->jupyterlab<4.5,>=4.4.5->notebook>=4.0->ipythonblocks) (0.16.0)\n",
      "Requirement already satisfied: babel>=2.10 in d:\\ai_journey\\computational_intelligence\\ci\\lib\\site-packages (from jupyterlab-server<3,>=2.27.1->notebook>=4.0->ipythonblocks) (2.17.0)\n",
      "Requirement already satisfied: json5>=0.9.0 in d:\\ai_journey\\computational_intelligence\\ci\\lib\\site-packages (from jupyterlab-server<3,>=2.27.1->notebook>=4.0->ipythonblocks) (0.12.1)\n",
      "Requirement already satisfied: jsonschema>=4.18.0 in d:\\ai_journey\\computational_intelligence\\ci\\lib\\site-packages (from jupyterlab-server<3,>=2.27.1->notebook>=4.0->ipythonblocks) (4.25.1)\n",
      "Requirement already satisfied: sniffio>=1.1 in d:\\ai_journey\\computational_intelligence\\ci\\lib\\site-packages (from anyio>=3.1.0->jupyter-server<3,>=2.4.0->notebook>=4.0->ipythonblocks) (1.3.1)\n",
      "Requirement already satisfied: typing_extensions>=4.5 in d:\\ai_journey\\computational_intelligence\\ci\\lib\\site-packages (from anyio>=3.1.0->jupyter-server<3,>=2.4.0->notebook>=4.0->ipythonblocks) (4.15.0)\n",
      "Requirement already satisfied: argon2-cffi-bindings in d:\\ai_journey\\computational_intelligence\\ci\\lib\\site-packages (from argon2-cffi>=21.1->jupyter-server<3,>=2.4.0->notebook>=4.0->ipythonblocks) (25.1.0)\n",
      "Requirement already satisfied: comm>=0.1.1 in d:\\ai_journey\\computational_intelligence\\ci\\lib\\site-packages (from ipykernel!=6.30.0,>=6.5.0->jupyterlab<4.5,>=4.4.5->notebook>=4.0->ipythonblocks) (0.2.3)\n",
      "Requirement already satisfied: debugpy>=1.6.5 in d:\\ai_journey\\computational_intelligence\\ci\\lib\\site-packages (from ipykernel!=6.30.0,>=6.5.0->jupyterlab<4.5,>=4.4.5->notebook>=4.0->ipythonblocks) (1.8.16)\n",
      "Requirement already satisfied: nest-asyncio>=1.4 in d:\\ai_journey\\computational_intelligence\\ci\\lib\\site-packages (from ipykernel!=6.30.0,>=6.5.0->jupyterlab<4.5,>=4.4.5->notebook>=4.0->ipythonblocks) (1.6.0)\n",
      "Requirement already satisfied: psutil>=5.7 in d:\\ai_journey\\computational_intelligence\\ci\\lib\\site-packages (from ipykernel!=6.30.0,>=6.5.0->jupyterlab<4.5,>=4.4.5->notebook>=4.0->ipythonblocks) (7.0.0)\n",
      "Requirement already satisfied: MarkupSafe>=2.0 in d:\\ai_journey\\computational_intelligence\\ci\\lib\\site-packages (from jinja2>=3.0.3->jupyter-server<3,>=2.4.0->notebook>=4.0->ipythonblocks) (3.0.2)\n",
      "Requirement already satisfied: attrs>=22.2.0 in d:\\ai_journey\\computational_intelligence\\ci\\lib\\site-packages (from jsonschema>=4.18.0->jupyterlab-server<3,>=2.27.1->notebook>=4.0->ipythonblocks) (25.3.0)\n",
      "Requirement already satisfied: jsonschema-specifications>=2023.03.6 in d:\\ai_journey\\computational_intelligence\\ci\\lib\\site-packages (from jsonschema>=4.18.0->jupyterlab-server<3,>=2.27.1->notebook>=4.0->ipythonblocks) (2025.4.1)\n",
      "Requirement already satisfied: referencing>=0.28.4 in d:\\ai_journey\\computational_intelligence\\ci\\lib\\site-packages (from jsonschema>=4.18.0->jupyterlab-server<3,>=2.27.1->notebook>=4.0->ipythonblocks) (0.36.2)\n",
      "Requirement already satisfied: rpds-py>=0.7.1 in d:\\ai_journey\\computational_intelligence\\ci\\lib\\site-packages (from jsonschema>=4.18.0->jupyterlab-server<3,>=2.27.1->notebook>=4.0->ipythonblocks) (0.27.1)\n",
      "Requirement already satisfied: python-dateutil>=2.8.2 in d:\\ai_journey\\computational_intelligence\\ci\\lib\\site-packages (from jupyter-client>=7.4.4->jupyter-server<3,>=2.4.0->notebook>=4.0->ipythonblocks) (2.9.0.post0)\n",
      "Requirement already satisfied: platformdirs>=2.5 in d:\\ai_journey\\computational_intelligence\\ci\\lib\\site-packages (from jupyter-core!=5.0.*,>=4.12->jupyter-server<3,>=2.4.0->notebook>=4.0->ipythonblocks) (4.4.0)\n",
      "Requirement already satisfied: pywin32>=300 in d:\\ai_journey\\computational_intelligence\\ci\\lib\\site-packages (from jupyter-core!=5.0.*,>=4.12->jupyter-server<3,>=2.4.0->notebook>=4.0->ipythonblocks) (311)\n",
      "Requirement already satisfied: python-json-logger>=2.0.4 in d:\\ai_journey\\computational_intelligence\\ci\\lib\\site-packages (from jupyter-events>=0.11.0->jupyter-server<3,>=2.4.0->notebook>=4.0->ipythonblocks) (3.3.0)\n",
      "Requirement already satisfied: pyyaml>=5.3 in d:\\ai_journey\\computational_intelligence\\ci\\lib\\site-packages (from jupyter-events>=0.11.0->jupyter-server<3,>=2.4.0->notebook>=4.0->ipythonblocks) (6.0.2)\n",
      "Requirement already satisfied: rfc3339-validator in d:\\ai_journey\\computational_intelligence\\ci\\lib\\site-packages (from jupyter-events>=0.11.0->jupyter-server<3,>=2.4.0->notebook>=4.0->ipythonblocks) (0.1.4)\n",
      "Requirement already satisfied: rfc3986-validator>=0.1.1 in d:\\ai_journey\\computational_intelligence\\ci\\lib\\site-packages (from jupyter-events>=0.11.0->jupyter-server<3,>=2.4.0->notebook>=4.0->ipythonblocks) (0.1.1)\n",
      "Requirement already satisfied: fqdn in d:\\ai_journey\\computational_intelligence\\ci\\lib\\site-packages (from jsonschema[format-nongpl]>=4.18.0->jupyter-events>=0.11.0->jupyter-server<3,>=2.4.0->notebook>=4.0->ipythonblocks) (1.5.1)\n",
      "Requirement already satisfied: isoduration in d:\\ai_journey\\computational_intelligence\\ci\\lib\\site-packages (from jsonschema[format-nongpl]>=4.18.0->jupyter-events>=0.11.0->jupyter-server<3,>=2.4.0->notebook>=4.0->ipythonblocks) (20.11.0)\n",
      "Requirement already satisfied: jsonpointer>1.13 in d:\\ai_journey\\computational_intelligence\\ci\\lib\\site-packages (from jsonschema[format-nongpl]>=4.18.0->jupyter-events>=0.11.0->jupyter-server<3,>=2.4.0->notebook>=4.0->ipythonblocks) (3.0.0)\n",
      "Requirement already satisfied: rfc3987-syntax>=1.1.0 in d:\\ai_journey\\computational_intelligence\\ci\\lib\\site-packages (from jsonschema[format-nongpl]>=4.18.0->jupyter-events>=0.11.0->jupyter-server<3,>=2.4.0->notebook>=4.0->ipythonblocks) (1.1.0)\n",
      "Requirement already satisfied: uri-template in d:\\ai_journey\\computational_intelligence\\ci\\lib\\site-packages (from jsonschema[format-nongpl]>=4.18.0->jupyter-events>=0.11.0->jupyter-server<3,>=2.4.0->notebook>=4.0->ipythonblocks) (1.3.0)\n",
      "Requirement already satisfied: webcolors>=24.6.0 in d:\\ai_journey\\computational_intelligence\\ci\\lib\\site-packages (from jsonschema[format-nongpl]>=4.18.0->jupyter-events>=0.11.0->jupyter-server<3,>=2.4.0->notebook>=4.0->ipythonblocks) (24.11.1)\n",
      "Requirement already satisfied: beautifulsoup4 in d:\\ai_journey\\computational_intelligence\\ci\\lib\\site-packages (from nbconvert>=6.4.4->jupyter-server<3,>=2.4.0->notebook>=4.0->ipythonblocks) (4.13.5)\n",
      "Requirement already satisfied: bleach!=5.0.0 in d:\\ai_journey\\computational_intelligence\\ci\\lib\\site-packages (from bleach[css]!=5.0.0->nbconvert>=6.4.4->jupyter-server<3,>=2.4.0->notebook>=4.0->ipythonblocks) (6.2.0)\n",
      "Requirement already satisfied: defusedxml in d:\\ai_journey\\computational_intelligence\\ci\\lib\\site-packages (from nbconvert>=6.4.4->jupyter-server<3,>=2.4.0->notebook>=4.0->ipythonblocks) (0.7.1)\n",
      "Requirement already satisfied: jupyterlab-pygments in d:\\ai_journey\\computational_intelligence\\ci\\lib\\site-packages (from nbconvert>=6.4.4->jupyter-server<3,>=2.4.0->notebook>=4.0->ipythonblocks) (0.3.0)\n",
      "Requirement already satisfied: mistune<4,>=2.0.3 in d:\\ai_journey\\computational_intelligence\\ci\\lib\\site-packages (from nbconvert>=6.4.4->jupyter-server<3,>=2.4.0->notebook>=4.0->ipythonblocks) (3.1.4)\n",
      "Requirement already satisfied: nbclient>=0.5.0 in d:\\ai_journey\\computational_intelligence\\ci\\lib\\site-packages (from nbconvert>=6.4.4->jupyter-server<3,>=2.4.0->notebook>=4.0->ipythonblocks) (0.10.2)\n",
      "Requirement already satisfied: pandocfilters>=1.4.1 in d:\\ai_journey\\computational_intelligence\\ci\\lib\\site-packages (from nbconvert>=6.4.4->jupyter-server<3,>=2.4.0->notebook>=4.0->ipythonblocks) (1.5.1)\n",
      "Requirement already satisfied: webencodings in d:\\ai_journey\\computational_intelligence\\ci\\lib\\site-packages (from bleach!=5.0.0->bleach[css]!=5.0.0->nbconvert>=6.4.4->jupyter-server<3,>=2.4.0->notebook>=4.0->ipythonblocks) (0.5.1)\n",
      "Requirement already satisfied: tinycss2<1.5,>=1.1.0 in d:\\ai_journey\\computational_intelligence\\ci\\lib\\site-packages (from bleach[css]!=5.0.0->nbconvert>=6.4.4->jupyter-server<3,>=2.4.0->notebook>=4.0->ipythonblocks) (1.4.0)\n",
      "Requirement already satisfied: fastjsonschema>=2.15 in d:\\ai_journey\\computational_intelligence\\ci\\lib\\site-packages (from nbformat>=5.3.0->jupyter-server<3,>=2.4.0->notebook>=4.0->ipythonblocks) (2.21.2)\n",
      "Requirement already satisfied: six>=1.5 in d:\\ai_journey\\computational_intelligence\\ci\\lib\\site-packages (from python-dateutil>=2.8.2->jupyter-client>=7.4.4->jupyter-server<3,>=2.4.0->notebook>=4.0->ipythonblocks) (1.17.0)\n",
      "Requirement already satisfied: charset_normalizer<4,>=2 in d:\\ai_journey\\computational_intelligence\\ci\\lib\\site-packages (from requests>=1.0->ipythonblocks) (3.4.3)\n",
      "Requirement already satisfied: urllib3<3,>=1.21.1 in d:\\ai_journey\\computational_intelligence\\ci\\lib\\site-packages (from requests>=1.0->ipythonblocks) (2.5.0)\n",
      "Requirement already satisfied: lark>=1.2.2 in d:\\ai_journey\\computational_intelligence\\ci\\lib\\site-packages (from rfc3987-syntax>=1.1.0->jsonschema[format-nongpl]>=4.18.0->jupyter-events>=0.11.0->jupyter-server<3,>=2.4.0->notebook>=4.0->ipythonblocks) (1.2.2)\n",
      "Requirement already satisfied: cffi>=1.0.1 in d:\\ai_journey\\computational_intelligence\\ci\\lib\\site-packages (from argon2-cffi-bindings->argon2-cffi>=21.1->jupyter-server<3,>=2.4.0->notebook>=4.0->ipythonblocks) (1.17.1)\n",
      "Requirement already satisfied: pycparser in d:\\ai_journey\\computational_intelligence\\ci\\lib\\site-packages (from cffi>=1.0.1->argon2-cffi-bindings->argon2-cffi>=21.1->jupyter-server<3,>=2.4.0->notebook>=4.0->ipythonblocks) (2.22)\n",
      "Requirement already satisfied: soupsieve>1.2 in d:\\ai_journey\\computational_intelligence\\ci\\lib\\site-packages (from beautifulsoup4->nbconvert>=6.4.4->jupyter-server<3,>=2.4.0->notebook>=4.0->ipythonblocks) (2.8)\n",
      "Requirement already satisfied: arrow>=0.15.0 in d:\\ai_journey\\computational_intelligence\\ci\\lib\\site-packages (from isoduration->jsonschema[format-nongpl]>=4.18.0->jupyter-events>=0.11.0->jupyter-server<3,>=2.4.0->notebook>=4.0->ipythonblocks) (1.3.0)\n",
      "Requirement already satisfied: types-python-dateutil>=2.8.10 in d:\\ai_journey\\computational_intelligence\\ci\\lib\\site-packages (from arrow>=0.15.0->isoduration->jsonschema[format-nongpl]>=4.18.0->jupyter-events>=0.11.0->jupyter-server<3,>=2.4.0->notebook>=4.0->ipythonblocks) (2.9.0.20250822)\n",
      "Requirement already satisfied: executing>=1.2.0 in d:\\ai_journey\\computational_intelligence\\ci\\lib\\site-packages (from stack_data->ipython>=4.0->ipythonblocks) (2.2.1)\n",
      "Requirement already satisfied: asttokens>=2.1.0 in d:\\ai_journey\\computational_intelligence\\ci\\lib\\site-packages (from stack_data->ipython>=4.0->ipythonblocks) (3.0.0)\n",
      "Requirement already satisfied: pure-eval in d:\\ai_journey\\computational_intelligence\\ci\\lib\\site-packages (from stack_data->ipython>=4.0->ipythonblocks) (0.2.3)\n",
      "Note: you may need to restart the kernel to use updated packages.\n",
      "Requirement already satisfied: qpsolvers in d:\\ai_journey\\computational_intelligence\\ci\\lib\\site-packages (4.8.1)\n",
      "Requirement already satisfied: numpy>=1.15.4 in d:\\ai_journey\\computational_intelligence\\ci\\lib\\site-packages (from qpsolvers) (2.3.2)\n",
      "Requirement already satisfied: scipy>=1.2.0 in d:\\ai_journey\\computational_intelligence\\ci\\lib\\site-packages (from qpsolvers) (1.16.1)\n",
      "Note: you may need to restart the kernel to use updated packages.\n"
     ]
    },
    {
     "name": "stderr",
     "output_type": "stream",
     "text": [
      "d:\\AI_Journey\\Computational_Intelligence\\CI\\Lib\\site-packages\\qpsolvers\\solvers\\__init__.py:880: UserWarning: no QP solver found on your system, you can install solvers from PyPI by ``pip install qpsolvers[open_source_solvers]``\n",
      "  warnings.warn(\n"
     ]
    }
   ],
   "source": [
    "%pip install ipythonblocks\n",
    "%pip install qpsolvers\n",
    "from utils import *\n",
    "from logic import *\n",
    "from notebook import psource"
   ]
  },
  {
   "cell_type": "markdown",
   "metadata": {
    "collapsed": true
   },
   "source": [
    "## Logical Sentences"
   ]
  },
  {
   "cell_type": "markdown",
   "metadata": {},
   "source": [
    "## Membuat Simbol dengan Kelas `Expr`\n",
    "\n",
    "**Tujuan:**\n",
    "Memahami bagaimana cara merepresentasikan kalimat logika sederhana menggunakan kelas `Expr`. Tahap awal dimulai dengan mendefinisikan simbol, yang merupakan bentuk paling dasar dari ekspresi logika.\n",
    "\n",
    "```python\n",
    "Symbol('x')\n",
    "```\n",
    "\n",
    "**Penjelasan:**\n",
    "\n",
    "* `Symbol('x')` → perintah ini membuat sebuah simbol bernama `x`.\n",
    "* Simbol adalah bentuk paling sederhana dari kelas `Expr`, dan digunakan sebagai representasi suatu variabel atau proposisi dalam logika.\n",
    "* Setelah dijalankan, hasil keluaran yang ditampilkan adalah **x**, artinya simbol berhasil dibuat dan dapat digunakan untuk membentuk kalimat logika yang lebih kompleks.\n",
    "\n"
   ]
  },
  {
   "cell_type": "code",
   "execution_count": 3,
   "metadata": {},
   "outputs": [
    {
     "data": {
      "text/plain": [
       "x"
      ]
     },
     "execution_count": 3,
     "metadata": {},
     "output_type": "execute_result"
    }
   ],
   "source": [
    "Symbol('x')\n"
   ]
  },
  {
   "cell_type": "markdown",
   "metadata": {},
   "source": [
    "\n",
    "## Mendefinisikan Beberapa Simbol Sekaligus\n",
    "\n",
    "**Tujuan:**\n",
    "Mempelajari cara mendefinisikan lebih dari satu simbol logika dalam satu baris kode untuk mempersingkat penulisan.\n",
    "\n",
    "```python\n",
    "(x, y, P, Q, f) = symbols('x, y, P, Q, f')\n",
    "```\n",
    "\n",
    "**Penjelasan:**\n",
    "\n",
    "* `symbols('x, y, P, Q, f')` → perintah ini membuat beberapa simbol sekaligus, yaitu **x**, **y**, **P**, **Q**, dan **f**.\n",
    "* Simbol **x** dan **y** biasanya dipakai sebagai variabel, sementara **P** dan **Q** digunakan sebagai proposisi logika.\n",
    "* Simbol **f** dapat dipakai sebagai fungsi atau ekspresi lain sesuai kebutuhan.\n",
    "* Dengan cara ini, kita tidak perlu menuliskan `Symbol('x')`, `Symbol('y')`, dan seterusnya satu per satu.\n",
    "\n",
    "\n"
   ]
  },
  {
   "cell_type": "code",
   "execution_count": 5,
   "metadata": {
    "collapsed": true
   },
   "outputs": [],
   "source": [
    "(x, y, P, Q, f) = symbols('x, y, P, Q, f')"
   ]
  },
  {
   "cell_type": "markdown",
   "metadata": {},
   "source": [
    "## Menggabungkan Simbol dengan Operator Logika\n",
    "\n",
    "**Tujuan:**\n",
    "Mencoba membentuk kalimat logika sederhana dengan menggunakan operator infix (`&`, `|`) dan prefix (`~`) yang tersedia di Python.\n",
    "\n",
    "```python\n",
    "P & ~Q\n",
    "```\n",
    "\n",
    "**Penjelasan:**\n",
    "\n",
    "* `P & ~Q` → membentuk kalimat logika yang artinya **P and not Q**.\n",
    "* Tanda `&` digunakan untuk operasi **AND** (konjungsi).\n",
    "* Tanda `~` digunakan untuk operasi **NOT** (negasi).\n",
    "* Dengan demikian, agar ekspresi ini bernilai benar, maka proposisi **P** harus benar **dan** proposisi **Q** tidak benar.\n",
    "* Hasil keluaran yang ditampilkan adalah bentuk logis sesuai definisi operator di kelas `Expr`.\n",
    "\n",
    "```python\n",
    "P | Q\n",
    "```\n",
    "\n",
    "* `P | Q` → membentuk kalimat logika yang artinya **P or Q**.\n",
    "* Tanda `|` digunakan untuk operasi **OR** (disjungsi).\n",
    "* Ekspresi ini akan bernilai benar jika minimal salah satu dari proposisi **P** atau **Q** bernilai benar. Jika keduanya salah, maka hasilnya salah.\n",
    "\n",
    "```python\n",
    "~Q\n",
    "```\n",
    "\n",
    "* `~Q` → membentuk kalimat logika yang artinya **not Q**.\n",
    "* Tanda `~` digunakan untuk operasi negasi.\n",
    "* Ekspresi ini akan bernilai benar hanya jika **Q bernilai salah**. Jika **Q benar**, maka hasilnya salah.\n"
   ]
  },
  {
   "cell_type": "code",
   "execution_count": 6,
   "metadata": {},
   "outputs": [
    {
     "data": {
      "text/plain": [
       "(P & ~Q)"
      ]
     },
     "execution_count": 6,
     "metadata": {},
     "output_type": "execute_result"
    }
   ],
   "source": [
    "P & ~Q"
   ]
  },
  {
   "cell_type": "code",
   "execution_count": 7,
   "metadata": {},
   "outputs": [
    {
     "data": {
      "text/plain": [
       "(P | Q)"
      ]
     },
     "execution_count": 7,
     "metadata": {},
     "output_type": "execute_result"
    }
   ],
   "source": [
    "P | Q"
   ]
  },
  {
   "cell_type": "code",
   "execution_count": 10,
   "metadata": {},
   "outputs": [
    {
     "data": {
      "text/plain": [
       "~Q"
      ]
     },
     "execution_count": 10,
     "metadata": {},
     "output_type": "execute_result"
    }
   ],
   "source": [
    "~Q "
   ]
  },
  {
   "cell_type": "markdown",
   "metadata": {},
   "source": [
    "## Melihat Properti dari Objek `Expr`\n",
    "\n",
    "**Tujuan:**\n",
    "Mengecek bagaimana sebuah kalimat logika disimpan di dalam objek `Expr`. Setiap objek `Expr` memiliki field seperti `op` (operator) dan `args` (argumen).\n",
    "\n",
    "**Penjelasan:**\n",
    "\n",
    "* `sentence = P & ~Q` → membuat sebuah ekspresi logika yang menyatakan **P and not Q**, lalu disimpan ke variabel bernama `sentence`.\n",
    "* `sentence.op` → digunakan untuk melihat operator yang dipakai di dalam ekspresi tersebut.\n",
    "* Karena ekspresinya adalah `P & ~Q`, maka nilai `sentence.op` yang ditampilkan adalah tanda **'&'**, yang berarti operator **AND**.\n",
    "* `sentence.args` → menampilkan daftar argumen dari ekspresi `P & ~Q`. Argumen ini berupa tuple yang berisi dua elemen, yaitu `P` dan `~Q`. Jadi kita bisa tahu operatornya `&` dan argumennya adalah proposisi di kiri dan kanan.\n",
    "* `P.args` → karena `P` adalah simbol tunggal, maka tidak memiliki argumen tambahan. Hasilnya adalah tuple kosong `()`.\n",
    "* `Pxy = P(x, y)` → mendefinisikan ekspresi baru dengan menggunakan simbol `P` sebagai fungsi yang diberikan argumen `x` dan `y`. Dengan ini, `P` diperlakukan seperti predikat dalam logika predikat (contoh: `P(x,y)`).\n",
    "* `Pxy.op` → menampilkan operator dari ekspresi `P(x, y)`, yaitu string `\"P\"`, karena `P` adalah nama predikat.\n",
    "* `Pxy.args` → menampilkan tuple `(x, y)`, yaitu daftar argumen yang diberikan ke predikat `P`.\n",
    "\n",
    "\n",
    "\n"
   ]
  },
  {
   "cell_type": "code",
   "execution_count": 11,
   "metadata": {},
   "outputs": [
    {
     "data": {
      "text/plain": [
       "'&'"
      ]
     },
     "execution_count": 11,
     "metadata": {},
     "output_type": "execute_result"
    }
   ],
   "source": [
    "sentence = P & ~Q\n",
    "\n",
    "sentence.op"
   ]
  },
  {
   "cell_type": "code",
   "execution_count": 12,
   "metadata": {},
   "outputs": [
    {
     "data": {
      "text/plain": [
       "(P, ~Q)"
      ]
     },
     "execution_count": 12,
     "metadata": {},
     "output_type": "execute_result"
    }
   ],
   "source": [
    "sentence.args"
   ]
  },
  {
   "cell_type": "code",
   "execution_count": 13,
   "metadata": {},
   "outputs": [
    {
     "data": {
      "text/plain": [
       "'P'"
      ]
     },
     "execution_count": 13,
     "metadata": {},
     "output_type": "execute_result"
    }
   ],
   "source": [
    "P.op"
   ]
  },
  {
   "cell_type": "code",
   "execution_count": 14,
   "metadata": {},
   "outputs": [
    {
     "data": {
      "text/plain": [
       "()"
      ]
     },
     "execution_count": 14,
     "metadata": {},
     "output_type": "execute_result"
    }
   ],
   "source": [
    "P.args"
   ]
  },
  {
   "cell_type": "code",
   "execution_count": 16,
   "metadata": {},
   "outputs": [
    {
     "data": {
      "text/plain": [
       "'P'"
      ]
     },
     "execution_count": 16,
     "metadata": {},
     "output_type": "execute_result"
    }
   ],
   "source": [
    "Pxy = P(x, y)\n",
    "\n",
    "Pxy.op"
   ]
  },
  {
   "cell_type": "code",
   "execution_count": 17,
   "metadata": {},
   "outputs": [
    {
     "data": {
      "text/plain": [
       "(x, y)"
      ]
     },
     "execution_count": 17,
     "metadata": {},
     "output_type": "execute_result"
    }
   ],
   "source": [
    "Pxy.args"
   ]
  },
  {
   "cell_type": "markdown",
   "metadata": {},
   "source": [
    "## Mencoba Nested Expression dengan `Expr`\n",
    "\n",
    "**Tujuan:**\n",
    "Melihat bagaimana kelas `Expr` dapat merepresentasikan ekspresi yang lebih kompleks, termasuk kombinasi angka, simbol, dan fungsi dalam bentuk pohon sintaks abstrak (abstract syntax tree).\n",
    "\n",
    "```python\n",
    "3 * f(x, y) + P(y) / 2 + 1\n",
    "```\n",
    "\n",
    "**Penjelasan:**\n",
    "\n",
    "* `3 * f(x, y)` → bagian ini mengalikan bilangan 3 dengan hasil dari fungsi `f(x, y)`. Di dalam `Expr`, hal ini akan direpresentasikan sebagai operator `*` dengan argumen `3` dan ekspresi `f(x, y)`.\n",
    "* `P(y)` → ini adalah predikat `P` yang menerima argumen `y`. Sama seperti `P(x, y)` sebelumnya, hanya saja di sini predikatnya hanya punya satu argumen.\n",
    "* `P(y) / 2` → hasil dari predikat `P(y)` dibagi dengan angka 2. Di dalam struktur `Expr`, operator yang dipakai adalah `/` dengan argumen `P(y)` dan `2`.\n",
    "* `+ 1` → setelah semua operasi sebelumnya, ditambahkan angka `1`.\n",
    "* Secara keseluruhan, ekspresi ini merupakan contoh **nested expression**, yaitu ekspresi yang berisi ekspresi lain di dalamnya. Hal ini menunjukkan bahwa `Expr` dapat digunakan untuk merepresentasikan struktur logika atau matematika yang lebih dalam dan kompleks.\n"
   ]
  },
  {
   "cell_type": "code",
   "execution_count": 19,
   "metadata": {},
   "outputs": [
    {
     "data": {
      "text/plain": [
       "(((3 * f(x, y)) + (P(y) / 2)) + 1)"
      ]
     },
     "execution_count": 19,
     "metadata": {},
     "output_type": "execute_result"
    }
   ],
   "source": [
    "3 * f(x, y) + P(y) / 2 + 1"
   ]
  },
  {
   "cell_type": "markdown",
   "metadata": {},
   "source": [
    "## Operator untuk Membentuk Kalimat Logika\n",
    "\n",
    "Berikut adalah penjelasan mengenai operator yang dapat digunakan untuk menyusun kalimat logika. Ada sedikit kendala: kita ingin menggunakan operator Python agar penulisan kalimat lebih sederhana, tetapi Python tidak mengizinkan penggunaan tanda panah implikasi secara langsung. Oleh karena itu, kita menggunakan notasi yang lebih panjang seperti `|'==>'|` sebagai pengganti `==>`. Alternatif lain, kita bisa menggunakan konstruktor `Expr` yang lebih eksplisit.\n",
    "\n",
    "**Daftar operator:**\n",
    "\n",
    "* **Negasi (¬P)**\n",
    "\n",
    "  * Python Infix: `~P`\n",
    "  * Hasil di Python: `~P`\n",
    "  * Bentuk `Expr`: `Expr('~', P)`\n",
    "\n",
    "* **Konjungsi (P ∧ Q)**\n",
    "\n",
    "  * Python Infix: `P & Q`\n",
    "  * Hasil di Python: `P & Q`\n",
    "  * Bentuk `Expr`: `Expr('&', P, Q)`\n",
    "\n",
    "* **Disjungsi (P ∨ Q)**\n",
    "\n",
    "  * Python Infix: `P | Q`\n",
    "  * Hasil di Python: `P | Q`\n",
    "  * Bentuk `Expr`: `Expr('|', P, Q)`\n",
    "\n",
    "* **Eksklusif Or / Ketidaksamaan (P ≠ Q)**\n",
    "\n",
    "  * Python Infix: `P ^ Q`\n",
    "  * Hasil di Python: `P ^ Q`\n",
    "  * Bentuk `Expr`: `Expr('^', P, Q)`\n",
    "\n",
    "* **Implikasi (P → Q)**\n",
    "\n",
    "  * Python Infix: `P |'==>'| Q`\n",
    "  * Hasil di Python: `P ==> Q`\n",
    "  * Bentuk `Expr`: `Expr('==>', P, Q)`\n",
    "\n",
    "* **Implikasi Terbalik (Q ← P)**\n",
    "\n",
    "  * Python Infix: `Q |'<=='| P`\n",
    "  * Hasil di Python: `Q <== P`\n",
    "  * Bentuk `Expr`: `Expr('<==', Q, P)`\n",
    "\n",
    "* **Ekuivalensi (P ↔ Q)**\n",
    "\n",
    "  * Python Infix: `P |'<=>'| Q`\n",
    "  * Hasil di Python: `P <=> Q`\n",
    "  * Bentuk `Expr`: `Expr('<=>', P, Q)`\n",
    "\n",
    "**Contoh:**\n",
    "Kita dapat mendefinisikan sebuah kalimat dengan menggunakan salah satu notasi di atas.\n"
   ]
  },
  {
   "cell_type": "code",
   "execution_count": 20,
   "metadata": {},
   "outputs": [
    {
     "data": {
      "text/plain": [
       "(~(P & Q) ==> (~P | ~Q))"
      ]
     },
     "execution_count": 20,
     "metadata": {},
     "output_type": "execute_result"
    }
   ],
   "source": [
    "~(P & Q)  |'==>'|  (~P | ~Q)"
   ]
  },
  {
   "cell_type": "code",
   "execution_count": 27,
   "metadata": {},
   "outputs": [
    {
     "data": {
      "text/plain": [
       "(B <== (A & ~B))"
      ]
     },
     "execution_count": 27,
     "metadata": {},
     "output_type": "execute_result"
    }
   ],
   "source": [
    "B |'<=='| A & ~B"
   ]
  },
  {
   "cell_type": "code",
   "execution_count": 26,
   "metadata": {},
   "outputs": [
    {
     "data": {
      "text/plain": [
       "(C ^ D)"
      ]
     },
     "execution_count": 26,
     "metadata": {},
     "output_type": "execute_result"
    }
   ],
   "source": [
    "C ^ D"
   ]
  },
  {
   "cell_type": "markdown",
   "metadata": {},
   "source": [
    "## `expr`: Jalan Pintas untuk Membentuk Kalimat Logika\n",
    "\n",
    "**Tujuan:**\n",
    "Mempermudah penulisan kalimat logika yang kompleks tanpa harus menggunakan notasi panjang seperti `|'==>'|`.\n",
    "\n",
    "```python\n",
    "expr('~(P & Q)  ==>  (~P | ~Q)')\n",
    "```\n",
    "\n",
    "**Penjelasan:**\n",
    "\n",
    "* Fungsi `expr` memungkinkan kita menuliskan kalimat logika dalam bentuk string yang lebih alami dan ringkas.\n",
    "* `'~(P & Q)  ==>  (~P | ~Q)'` → menyatakan implikasi bahwa **jika tidak (P dan Q)**, maka **(\\~P atau \\~Q)**.\n",
    "* Hasil dari fungsi `expr` adalah sebuah objek `Expr` yang strukturnya sama seperti jika kita membentuk ekspresi tersebut dengan operator Python atau konstruktor `Expr`.\n",
    "* Dengan cara ini, kode menjadi lebih mudah dibaca dan lebih dekat dengan notasi logika pada buku teks.\n"
   ]
  },
  {
   "cell_type": "code",
   "execution_count": 14,
   "metadata": {},
   "outputs": [
    {
     "data": {
      "text/plain": [
       "(~(P & Q) ==> (~P | ~Q))"
      ]
     },
     "execution_count": 14,
     "metadata": {},
     "output_type": "execute_result"
    }
   ],
   "source": [
    "expr('~(P & Q)  ==>  (~P | ~Q)')"
   ]
  },
  {
   "cell_type": "markdown",
   "metadata": {},
   "source": [
    "## Menggunakan `expr` dengan Ekspresi Matematika\n",
    "\n",
    "**Tujuan:**\n",
    "Menunjukkan bahwa fungsi `expr` tidak hanya dapat digunakan untuk kalimat logika, tetapi juga bisa dipakai untuk membentuk ekspresi matematika yang lebih umum.\n",
    "\n",
    "```python\n",
    "expr('sqrt(b ** 2 - 4 * a * c)')\n",
    "```\n",
    "\n",
    "**Penjelasan:**\n",
    "\n",
    "* `expr(...)` → menerima sebuah string, lalu mengubahnya menjadi objek `Expr`.\n",
    "* `'sqrt(b ** 2 - 4 * a * c)'` → string ini merepresentasikan formula matematika klasik yaitu diskriminan pada persamaan kuadrat: $\\sqrt{b^2 - 4ac}$.\n",
    "* Operator `**` menunjukkan pangkat, sehingga `b ** 2` berarti $b^2$.\n",
    "* Tanda `*` digunakan untuk perkalian, jadi `4 * a * c` berarti $4ac$.\n",
    "* Hasil dari pemanggilan ini adalah sebuah objek `Expr` yang merepresentasikan ekspresi kuadrat tersebut dalam bentuk struktur data Python.\n",
    "\n",
    "\n"
   ]
  },
  {
   "cell_type": "code",
   "execution_count": 23,
   "metadata": {},
   "outputs": [
    {
     "data": {
      "text/plain": [
       "sqrt(((b ** 2) - ((4 * a) * c)))"
      ]
     },
     "execution_count": 23,
     "metadata": {},
     "output_type": "execute_result"
    }
   ],
   "source": [
    "expr('sqrt(b ** 2 - 4 * a * c)')"
   ]
  },
  {
   "cell_type": "markdown",
   "metadata": {},
   "source": [
    "## Basis Pengetahuan Proposisional: `PropKB`\n",
    "\n",
    "Kelas `PropKB` digunakan untuk merepresentasikan **basis pengetahuan** yang berisi kalimat-kalimat logika proposisional.\n",
    "\n",
    "Dalam hierarki kelas, sebenarnya ada kelas induk bernama `KB` yang menyediakan empat metode utama selain konstruktor `__init__`. Salah satu hal penting adalah bahwa metode `ask` pada dasarnya hanya memanggil `ask_generator`. Jadi, jika kita ingin membuat kelas basis pengetahuan baru, biasanya yang perlu diimplementasikan hanyalah `ask_generator`, bukan `ask`.\n",
    "\n",
    "Berikut adalah penjelasan fungsi-fungsi dalam `PropKB`:\n",
    "\n",
    "* **`__init__(self, sentence=None)`**\n",
    "  Konstruktor ini membuat satu atribut utama bernama `clauses`, yaitu sebuah list yang menyimpan semua kalimat dalam basis pengetahuan. Setiap kalimat diubah menjadi bentuk **clause** (kalimat yang terdiri dari literal dan operator `or`).\n",
    "\n",
    "* **`tell(self, sentence)`**\n",
    "  Fungsi ini digunakan untuk **menambahkan** kalimat baru ke dalam basis pengetahuan. Prosesnya otomatis: kalimat diubah ke bentuk **CNF (Conjunctive Normal Form)**, kemudian semua clause hasil konversi dimasukkan ke dalam atribut `clauses`. Dengan demikian, kita tidak perlu repot menulis kalimat langsung dalam bentuk clause.\n",
    "\n",
    "* **`ask_generator(self, query)`**\n",
    "  Metode ini adalah inti dari proses **penarikan kesimpulan**. Di dalamnya dipanggil fungsi `tt_entails`, yang akan mengembalikan `True` jika basis pengetahuan memenuhi query, dan `False` jika tidak.\n",
    "\n",
    "  * Jika entailed → fungsi ini mengembalikan dictionary kosong `{}`.\n",
    "  * Jika tidak entailed → fungsi ini mengembalikan `None`.\n",
    "    Alasan penggunaan `{}` dan `None` (bukan sekadar `True`/`False`) adalah untuk konsistensi dengan logika tingkat pertama (First-Order Logic), di mana fungsi `ask_generator` seharusnya mengembalikan semua substitusi yang membuat query bernilai benar.\n",
    "\n",
    "* **`retract(self, sentence)`**\n",
    "  Fungsi ini digunakan untuk **menghapus** kalimat dari basis pengetahuan. Sama seperti `tell`, input bisa berupa kalimat dalam bentuk apapun. Fungsi ini akan otomatis mengonversi kalimat menjadi clause, lalu menghapus clause tersebut dari atribut `clauses`.\n",
    "\n"
   ]
  },
  {
   "cell_type": "markdown",
   "metadata": {},
   "source": [
    "## Membuat Knowledge Base untuk Wumpus World\n",
    "\n",
    "**Tujuan:**\n",
    "Membangun sebuah **basis pengetahuan proposisional** (PropKB) khusus untuk dunia Wumpus. Basis pengetahuan ini nantinya akan diisi dengan kalimat-kalimat logika yang menggambarkan aturan serta kondisi pada lingkungan Wumpus World.\n",
    "\n",
    "```python\n",
    "wumpus_kb = PropKB()\n",
    "```\n",
    "\n",
    "**Penjelasan:**\n",
    "\n",
    "* `wumpus_kb = PropKB()` → membuat sebuah objek `PropKB` kosong yang dinamai `wumpus_kb`.\n",
    "* Objek ini akan berfungsi sebagai **wadah** untuk menyimpan semua pengetahuan logika proposisional yang terkait dengan dunia Wumpus.\n",
    "* Selanjutnya, kita dapat menambahkan kalimat logika (misalnya aturan tentang keberadaan Wumpus, bau, atau lubang) ke dalam knowledge base ini dengan menggunakan metode `tell`.\n",
    "\n",
    "\n"
   ]
  },
  {
   "cell_type": "code",
   "execution_count": 16,
   "metadata": {
    "collapsed": true
   },
   "outputs": [],
   "source": [
    "wumpus_kb = PropKB()"
   ]
  },
  {
   "cell_type": "markdown",
   "metadata": {},
   "source": [
    "## Mendefinisikan Simbol untuk Aturan Wumpus World\n",
    "\n",
    "**Tujuan:**\n",
    "Membuat simbol-simbol proposisional yang mewakili kondisi tertentu di dunia Wumpus. Simbol ini digunakan dalam clause untuk menggambarkan apakah ada lubang (pit) atau angin (breeze) pada koordinat tertentu.\n",
    "\n",
    "```python\n",
    "P11, P12, P21, P22, P31, B11, B21 = expr('P11, P12, P21, P22, P31, B11, B21')\n",
    "```\n",
    "\n",
    "**Penjelasan:**\n",
    "\n",
    "* **$P_{x,y}$** → bernilai benar jika terdapat **pit (lubang)** pada posisi $[x, y]$.\n",
    "* **$B_{x,y}$** → bernilai benar jika agen merasakan adanya **breeze (angin)** pada posisi $[x, y]$.\n",
    "* `expr('P11, P12, P21, P22, P31, B11, B21')` → membuat tujuh simbol proposisional sekaligus:\n",
    "\n",
    "  * **P11**: ada pit di sel (1,1).\n",
    "  * **P12**: ada pit di sel (1,2).\n",
    "  * **P21**: ada pit di sel (2,1).\n",
    "  * **P22**: ada pit di sel (2,2).\n",
    "  * **P31**: ada pit di sel (3,1).\n",
    "  * **B11**: ada breeze di sel (1,1).\n",
    "  * **B21**: ada breeze di sel (2,1).\n",
    "\n",
    "Simbol-simbol ini nantinya akan dipakai untuk menyusun aturan logika (clauses) dalam knowledge base `wumpus_kb`.\n",
    "\n",
    "\n"
   ]
  },
  {
   "cell_type": "code",
   "execution_count": 17,
   "metadata": {
    "collapsed": true
   },
   "outputs": [],
   "source": [
    "P11, P12, P21, P22, P31, B11, B21 = expr('P11, P12, P21, P22, P31, B11, B21')"
   ]
  },
  {
   "cell_type": "markdown",
   "metadata": {},
   "source": [
    "## Menambahkan Fakta ke Knowledge Base\n",
    "\n",
    "**Tujuan:**\n",
    "Memasukkan informasi baru ke dalam basis pengetahuan Wumpus World. Informasi ini berupa fakta yang diketahui dari kondisi awal lingkungan.\n",
    "\n",
    "```python\n",
    "wumpus_kb.tell(~P11)\n",
    "```\n",
    "\n",
    "**Penjelasan:**\n",
    "\n",
    "* `~P11` → menyatakan **tidak ada pit (lubang) di sel (1,1)**.\n",
    "* `wumpus_kb.tell(~P11)` → menambahkan fakta tersebut ke dalam knowledge base `wumpus_kb`.\n",
    "* Metode `tell` akan otomatis mengubah kalimat ke bentuk CNF (jika diperlukan) dan menyimpannya dalam daftar klausa.\n",
    "* Dengan menambahkan informasi ini, agen akan tahu dengan pasti bahwa lokasi awal `(1,1)` aman dari lubang.\n",
    "\n"
   ]
  },
  {
   "cell_type": "code",
   "execution_count": 18,
   "metadata": {
    "collapsed": true
   },
   "outputs": [],
   "source": [
    "wumpus_kb.tell(~P11)"
   ]
  },
  {
   "cell_type": "markdown",
   "metadata": {},
   "source": [
    "## Menambahkan Aturan Breeze ke Knowledge Base\n",
    "\n",
    "**Tujuan:**\n",
    "Mendefinisikan hubungan antara **breeze** dan **pit** pada sel tetangga. Aturan ini menyatakan bahwa sebuah kotak akan terasa berangin (*breezy*) **jika dan hanya jika** ada pit di salah satu kotak yang berdekatan.\n",
    "\n",
    "```python\n",
    "wumpus_kb.tell(B11 | '<=>' | ((P12 | P21)))\n",
    "wumpus_kb.tell(B21 | '<=>' | ((P11 | P22 | P31)))\n",
    "```\n",
    "\n",
    "**Penjelasan:**\n",
    "\n",
    "* `B11 | '<=>' | (P12 | P21)` → berarti **sel (1,1) berangin jika dan hanya jika ada pit di (1,2) atau (2,1)**.\n",
    "* `B21 | '<=>' | (P11 | P22 | P31)` → berarti **sel (2,1) berangin jika dan hanya jika ada pit di (1,1), (2,2), atau (3,1)**.\n",
    "* Operator `<=>` menyatakan **ekuivalensi logis (if and only if)**, sehingga kedua arah hubungan berlaku.\n",
    "* Dengan menambahkan aturan ini, agen akan dapat menyimpulkan keberadaan pit berdasarkan ada atau tidaknya breeze yang dirasakan.\n",
    "\n",
    "\n"
   ]
  },
  {
   "cell_type": "code",
   "execution_count": 19,
   "metadata": {
    "collapsed": true
   },
   "outputs": [],
   "source": [
    "wumpus_kb.tell(B11 | '<=>' | ((P12 | P21)))\n",
    "wumpus_kb.tell(B21 | '<=>' | ((P11 | P22 | P31)))"
   ]
  },
  {
   "cell_type": "markdown",
   "metadata": {},
   "source": [
    "## Menambahkan Informasi Percept Breeze\n",
    "\n",
    "**Tujuan:**\n",
    "Memasukkan data percept yang diterima agen pada beberapa kotak awal. Percept ini menunjukkan apakah agen merasakan breeze di lokasi tertentu. Informasi ini akan membantu agen dalam melakukan penalaran tentang posisi pit di sekitar.\n",
    "\n",
    "```python\n",
    "wumpus_kb.tell(~B11)\n",
    "wumpus_kb.tell(B21)\n",
    "```\n",
    "\n",
    "**Penjelasan:**\n",
    "\n",
    "* `~B11` → menyatakan bahwa **tidak ada breeze di sel (1,1)**. Hal ini logis karena sel awal biasanya aman.\n",
    "* `B21` → menyatakan bahwa **ada breeze di sel (2,1)**. Artinya, di salah satu kotak tetangga sel (2,1) kemungkinan terdapat pit.\n",
    "* Dengan menambahkan kedua fakta ini ke knowledge base, agen memiliki data nyata (percept) untuk dipadukan dengan aturan logika sebelumnya.\n",
    "* Informasi ini sangat penting untuk melakukan inference, misalnya menentukan kemungkinan ada pit di `(2,2)` atau `(3,1)`.\n",
    "\n"
   ]
  },
  {
   "cell_type": "code",
   "execution_count": 20,
   "metadata": {
    "collapsed": true
   },
   "outputs": [],
   "source": [
    "wumpus_kb.tell(~B11)\n",
    "wumpus_kb.tell(B21)"
   ]
  },
  {
   "cell_type": "markdown",
   "metadata": {},
   "source": [
    "## Mengecek Klausa dalam Knowledge Base\n",
    "\n",
    "**Tujuan:**\n",
    "Melihat isi dari basis pengetahuan yang sudah dibangun sejauh ini. Hal ini dilakukan untuk memastikan bahwa semua fakta dan aturan yang ditambahkan benar-benar tersimpan di dalam knowledge base.\n",
    "\n",
    "```python\n",
    "wumpus_kb.clauses\n",
    "```\n",
    "\n",
    "**Penjelasan:**\n",
    "\n",
    "* `wumpus_kb.clauses` → digunakan untuk menampilkan semua klausa yang ada di dalam objek `wumpus_kb`.\n",
    "* Setiap klausa yang ditampilkan adalah hasil konversi dari kalimat logika yang sebelumnya ditambahkan menggunakan `tell()`.\n",
    "* Dengan cara ini, kita bisa memverifikasi bahwa aturan breeze, fakta tentang pit, dan percept sudah tercatat dalam bentuk klausa.\n",
    "* Pengecekan ini penting sebelum melakukan query (`ask`) agar kita yakin basis pengetahuan berisi semua informasi yang diperlukan untuk inference.\n",
    "\n",
    "\n"
   ]
  },
  {
   "cell_type": "code",
   "execution_count": 21,
   "metadata": {},
   "outputs": [
    {
     "data": {
      "text/plain": [
       "[~P11,\n",
       " (~P12 | B11),\n",
       " (~P21 | B11),\n",
       " (P12 | P21 | ~B11),\n",
       " (~P11 | B21),\n",
       " (~P22 | B21),\n",
       " (~P31 | B21),\n",
       " (P11 | P22 | P31 | ~B21),\n",
       " ~B11,\n",
       " B21]"
      ]
     },
     "execution_count": 21,
     "metadata": {},
     "output_type": "execute_result"
    }
   ],
   "source": [
    "wumpus_kb.clauses"
   ]
  },
  {
   "cell_type": "markdown",
   "metadata": {},
   "source": [
    "Kita melihat bahwa ekuivalensi $B_{1,1} \\iff (P_{1,2} \\lor P_{2,1})$ secara otomatis dikonversi menjadi dua implikasi yang kemudian diubah ke bentuk CNF dan disimpan dalam `KB`.\n",
    "\n",
    "* $B_{1,1} \\iff (P_{1,2} \\lor P_{2,1})$ dipecah menjadi $B_{1,1} \\implies (P_{1,2} \\lor P_{2,1})$ dan $B_{1,1} \\Longleftarrow (P_{1,2} \\lor P_{2,1})$.\n",
    "* $B_{1,1} \\implies (P_{1,2} \\lor P_{2,1})$ dikonversi menjadi $P_{1,2} \\lor P_{2,1} \\lor \\neg B_{1,1}$.\n",
    "* $B_{1,1} \\Longleftarrow (P_{1,2} \\lor P_{2,1})$ dikonversi menjadi $\\neg (P_{1,2} \\lor P_{2,1}) \\lor B_{1,1}$ yang kemudian berubah menjadi $(\\neg P_{1,2} \\lor B_{1,1}) \\land (\\neg P_{2,1} \\lor B_{1,1})$ setelah menerapkan hukum De Morgan dan distribusi disjungsi.\n",
    "* $B_{2,1} \\iff (P_{1,1} \\lor P_{2,2} \\lor P_{3,2})$ dikonversi dengan cara yang serupa.\n"
   ]
  },
  {
   "cell_type": "markdown",
   "metadata": {},
   "source": [
    "## Knowledge-Based Agents\n",
    "\n",
    "**Tujuan:**\n",
    "Memahami konsep agen berbasis pengetahuan, yaitu agen yang menggunakan **knowledge base (KB)** untuk menyimpan informasi, melakukan inferensi, dan menentukan tindakan terbaik.\n",
    "\n",
    "**Penjelasan:**\n",
    "\n",
    "* Agen berbasis pengetahuan adalah agen generik sederhana yang **menyimpan** serta **mengelola** basis pengetahuan.\n",
    "* Pada awalnya, knowledge base bisa saja sudah berisi pengetahuan awal (background knowledge).\n",
    "* Fungsi utama agen berbasis KB adalah menyediakan **abstraksi** dalam manipulasi knowledge base. Dengan abstraksi ini, agen dapat menerima percept, memperbarui pengetahuannya, melakukan query untuk menentukan tindakan terbaik, dan kemudian mencatat tindakan yang sudah dilakukan.\n",
    "* Implementasi `KB-Agent` dalam kode ini terdapat pada kelas **`KB_AgentProgram`**, yang diturunkan dari kelas `KB`.\n",
    "* Kelas ini berfungsi untuk menghubungkan percept yang diterima agen dengan pengetahuan di dalam KB, lalu menghasilkan aksi yang sesuai.\n",
    "\n",
    "```python\n",
    "psource(KBAgentProgram)\n",
    "```\n",
    "\n",
    "Kode di atas digunakan untuk menampilkan source code dari kelas `KBAgentProgram`, sehingga kita bisa mempelajari detail implementasinya.\n",
    "\n"
   ]
  },
  {
   "cell_type": "code",
   "execution_count": 22,
   "metadata": {},
   "outputs": [
    {
     "data": {
      "text/html": [
       "<!DOCTYPE html PUBLIC \"-//W3C//DTD HTML 4.01//EN\"\n",
       "   \"http://www.w3.org/TR/html4/strict.dtd\">\n",
       "<!--\n",
       "generated by Pygments <https://pygments.org/>\n",
       "Copyright 2006-2025 by the Pygments team.\n",
       "Licensed under the BSD license, see LICENSE for details.\n",
       "-->\n",
       "<html>\n",
       "<head>\n",
       "  <title></title>\n",
       "  <meta http-equiv=\"content-type\" content=\"text/html; charset=None\">\n",
       "  <style type=\"text/css\">\n",
       "/*\n",
       "generated by Pygments <https://pygments.org/>\n",
       "Copyright 2006-2025 by the Pygments team.\n",
       "Licensed under the BSD license, see LICENSE for details.\n",
       "*/\n",
       "pre { line-height: 125%; }\n",
       "td.linenos .normal { color: inherit; background-color: transparent; padding-left: 5px; padding-right: 5px; }\n",
       "span.linenos { color: inherit; background-color: transparent; padding-left: 5px; padding-right: 5px; }\n",
       "td.linenos .special { color: #000000; background-color: #ffffc0; padding-left: 5px; padding-right: 5px; }\n",
       "span.linenos.special { color: #000000; background-color: #ffffc0; padding-left: 5px; padding-right: 5px; }\n",
       "body .hll { background-color: #ffffcc }\n",
       "body { background: #f8f8f8; }\n",
       "body .c { color: #3D7B7B; font-style: italic } /* Comment */\n",
       "body .err { border: 1px solid #F00 } /* Error */\n",
       "body .k { color: #008000; font-weight: bold } /* Keyword */\n",
       "body .o { color: #666 } /* Operator */\n",
       "body .ch { color: #3D7B7B; font-style: italic } /* Comment.Hashbang */\n",
       "body .cm { color: #3D7B7B; font-style: italic } /* Comment.Multiline */\n",
       "body .cp { color: #9C6500 } /* Comment.Preproc */\n",
       "body .cpf { color: #3D7B7B; font-style: italic } /* Comment.PreprocFile */\n",
       "body .c1 { color: #3D7B7B; font-style: italic } /* Comment.Single */\n",
       "body .cs { color: #3D7B7B; font-style: italic } /* Comment.Special */\n",
       "body .gd { color: #A00000 } /* Generic.Deleted */\n",
       "body .ge { font-style: italic } /* Generic.Emph */\n",
       "body .ges { font-weight: bold; font-style: italic } /* Generic.EmphStrong */\n",
       "body .gr { color: #E40000 } /* Generic.Error */\n",
       "body .gh { color: #000080; font-weight: bold } /* Generic.Heading */\n",
       "body .gi { color: #008400 } /* Generic.Inserted */\n",
       "body .go { color: #717171 } /* Generic.Output */\n",
       "body .gp { color: #000080; font-weight: bold } /* Generic.Prompt */\n",
       "body .gs { font-weight: bold } /* Generic.Strong */\n",
       "body .gu { color: #800080; font-weight: bold } /* Generic.Subheading */\n",
       "body .gt { color: #04D } /* Generic.Traceback */\n",
       "body .kc { color: #008000; font-weight: bold } /* Keyword.Constant */\n",
       "body .kd { color: #008000; font-weight: bold } /* Keyword.Declaration */\n",
       "body .kn { color: #008000; font-weight: bold } /* Keyword.Namespace */\n",
       "body .kp { color: #008000 } /* Keyword.Pseudo */\n",
       "body .kr { color: #008000; font-weight: bold } /* Keyword.Reserved */\n",
       "body .kt { color: #B00040 } /* Keyword.Type */\n",
       "body .m { color: #666 } /* Literal.Number */\n",
       "body .s { color: #BA2121 } /* Literal.String */\n",
       "body .na { color: #687822 } /* Name.Attribute */\n",
       "body .nb { color: #008000 } /* Name.Builtin */\n",
       "body .nc { color: #00F; font-weight: bold } /* Name.Class */\n",
       "body .no { color: #800 } /* Name.Constant */\n",
       "body .nd { color: #A2F } /* Name.Decorator */\n",
       "body .ni { color: #717171; font-weight: bold } /* Name.Entity */\n",
       "body .ne { color: #CB3F38; font-weight: bold } /* Name.Exception */\n",
       "body .nf { color: #00F } /* Name.Function */\n",
       "body .nl { color: #767600 } /* Name.Label */\n",
       "body .nn { color: #00F; font-weight: bold } /* Name.Namespace */\n",
       "body .nt { color: #008000; font-weight: bold } /* Name.Tag */\n",
       "body .nv { color: #19177C } /* Name.Variable */\n",
       "body .ow { color: #A2F; font-weight: bold } /* Operator.Word */\n",
       "body .w { color: #BBB } /* Text.Whitespace */\n",
       "body .mb { color: #666 } /* Literal.Number.Bin */\n",
       "body .mf { color: #666 } /* Literal.Number.Float */\n",
       "body .mh { color: #666 } /* Literal.Number.Hex */\n",
       "body .mi { color: #666 } /* Literal.Number.Integer */\n",
       "body .mo { color: #666 } /* Literal.Number.Oct */\n",
       "body .sa { color: #BA2121 } /* Literal.String.Affix */\n",
       "body .sb { color: #BA2121 } /* Literal.String.Backtick */\n",
       "body .sc { color: #BA2121 } /* Literal.String.Char */\n",
       "body .dl { color: #BA2121 } /* Literal.String.Delimiter */\n",
       "body .sd { color: #BA2121; font-style: italic } /* Literal.String.Doc */\n",
       "body .s2 { color: #BA2121 } /* Literal.String.Double */\n",
       "body .se { color: #AA5D1F; font-weight: bold } /* Literal.String.Escape */\n",
       "body .sh { color: #BA2121 } /* Literal.String.Heredoc */\n",
       "body .si { color: #A45A77; font-weight: bold } /* Literal.String.Interpol */\n",
       "body .sx { color: #008000 } /* Literal.String.Other */\n",
       "body .sr { color: #A45A77 } /* Literal.String.Regex */\n",
       "body .s1 { color: #BA2121 } /* Literal.String.Single */\n",
       "body .ss { color: #19177C } /* Literal.String.Symbol */\n",
       "body .bp { color: #008000 } /* Name.Builtin.Pseudo */\n",
       "body .fm { color: #00F } /* Name.Function.Magic */\n",
       "body .vc { color: #19177C } /* Name.Variable.Class */\n",
       "body .vg { color: #19177C } /* Name.Variable.Global */\n",
       "body .vi { color: #19177C } /* Name.Variable.Instance */\n",
       "body .vm { color: #19177C } /* Name.Variable.Magic */\n",
       "body .il { color: #666 } /* Literal.Number.Integer.Long */\n",
       "\n",
       "  </style>\n",
       "</head>\n",
       "<body>\n",
       "<h2></h2>\n",
       "\n",
       "<div class=\"highlight\"><pre><span></span><span class=\"k\">def</span><span class=\"w\"> </span><span class=\"nf\">KBAgentProgram</span><span class=\"p\">(</span><span class=\"n\">kb</span><span class=\"p\">):</span>\n",
       "<span class=\"w\">    </span><span class=\"sd\">&quot;&quot;&quot;</span>\n",
       "<span class=\"sd\">    [Figure 7.1]</span>\n",
       "<span class=\"sd\">    A generic logical knowledge-based agent program.</span>\n",
       "<span class=\"sd\">    &quot;&quot;&quot;</span>\n",
       "    <span class=\"n\">steps</span> <span class=\"o\">=</span> <span class=\"n\">itertools</span><span class=\"o\">.</span><span class=\"n\">count</span><span class=\"p\">()</span>\n",
       "\n",
       "    <span class=\"k\">def</span><span class=\"w\"> </span><span class=\"nf\">program</span><span class=\"p\">(</span><span class=\"n\">percept</span><span class=\"p\">):</span>\n",
       "        <span class=\"n\">t</span> <span class=\"o\">=</span> <span class=\"nb\">next</span><span class=\"p\">(</span><span class=\"n\">steps</span><span class=\"p\">)</span>\n",
       "        <span class=\"n\">kb</span><span class=\"o\">.</span><span class=\"n\">tell</span><span class=\"p\">(</span><span class=\"n\">make_percept_sentence</span><span class=\"p\">(</span><span class=\"n\">percept</span><span class=\"p\">,</span> <span class=\"n\">t</span><span class=\"p\">))</span>\n",
       "        <span class=\"n\">action</span> <span class=\"o\">=</span> <span class=\"n\">kb</span><span class=\"o\">.</span><span class=\"n\">ask</span><span class=\"p\">(</span><span class=\"n\">make_action_query</span><span class=\"p\">(</span><span class=\"n\">t</span><span class=\"p\">))</span>\n",
       "        <span class=\"n\">kb</span><span class=\"o\">.</span><span class=\"n\">tell</span><span class=\"p\">(</span><span class=\"n\">make_action_sentence</span><span class=\"p\">(</span><span class=\"n\">action</span><span class=\"p\">,</span> <span class=\"n\">t</span><span class=\"p\">))</span>\n",
       "        <span class=\"k\">return</span> <span class=\"n\">action</span>\n",
       "\n",
       "    <span class=\"k\">def</span><span class=\"w\"> </span><span class=\"nf\">make_percept_sentence</span><span class=\"p\">(</span><span class=\"n\">percept</span><span class=\"p\">,</span> <span class=\"n\">t</span><span class=\"p\">):</span>\n",
       "        <span class=\"k\">return</span> <span class=\"n\">Expr</span><span class=\"p\">(</span><span class=\"s1\">&#39;Percept&#39;</span><span class=\"p\">)(</span><span class=\"n\">percept</span><span class=\"p\">,</span> <span class=\"n\">t</span><span class=\"p\">)</span>\n",
       "\n",
       "    <span class=\"k\">def</span><span class=\"w\"> </span><span class=\"nf\">make_action_query</span><span class=\"p\">(</span><span class=\"n\">t</span><span class=\"p\">):</span>\n",
       "        <span class=\"k\">return</span> <span class=\"n\">expr</span><span class=\"p\">(</span><span class=\"s1\">&#39;ShouldDo(action, </span><span class=\"si\">{}</span><span class=\"s1\">)&#39;</span><span class=\"o\">.</span><span class=\"n\">format</span><span class=\"p\">(</span><span class=\"n\">t</span><span class=\"p\">))</span>\n",
       "\n",
       "    <span class=\"k\">def</span><span class=\"w\"> </span><span class=\"nf\">make_action_sentence</span><span class=\"p\">(</span><span class=\"n\">action</span><span class=\"p\">,</span> <span class=\"n\">t</span><span class=\"p\">):</span>\n",
       "        <span class=\"k\">return</span> <span class=\"n\">Expr</span><span class=\"p\">(</span><span class=\"s1\">&#39;Did&#39;</span><span class=\"p\">)(</span><span class=\"n\">action</span><span class=\"p\">[</span><span class=\"n\">expr</span><span class=\"p\">(</span><span class=\"s1\">&#39;action&#39;</span><span class=\"p\">)],</span> <span class=\"n\">t</span><span class=\"p\">)</span>\n",
       "\n",
       "    <span class=\"k\">return</span> <span class=\"n\">program</span>\n",
       "</pre></div>\n",
       "</body>\n",
       "</html>\n"
      ],
      "text/plain": [
       "<IPython.core.display.HTML object>"
      ]
     },
     "metadata": {},
     "output_type": "display_data"
    }
   ],
   "source": [
    "psource(KBAgentProgram)"
   ]
  },
  {
   "cell_type": "markdown",
   "metadata": {},
   "source": [
    "Fungsi bantu `make_percept_sentence`, `make_action_query`, dan `make_action_sentence` masing-masing telah dinamai sesuai dengan fungsinya, yaitu:\n",
    "\n",
    "* `make_percept_sentence` → membuat kalimat logika orde pertama mengenai percept yang ingin diterima oleh agen.\n",
    "* `make_action_query` → menanyakan kepada **KB** tentang tindakan apa yang seharusnya diambil.\n",
    "* `make_action_sentence` → memberi tahu **KB** mengenai tindakan yang baru saja dilakukan oleh agen.\n"
   ]
  },
  {
   "cell_type": "markdown",
   "metadata": {},
   "source": [
    "## Inferensi dalam Basis Pengetahuan Proposisional\n",
    "\n",
    "**Tujuan:**\n",
    "Mempelajari cara menentukan apakah sebuah kalimat logika di-*entail* oleh sebuah knowledge base (KB). Dengan kata lain, kita ingin memutuskan apakah $KB \\models \\alpha$ untuk suatu kalimat $\\alpha$.\n",
    "\n",
    "### Truth Table Enumeration\n",
    "\n",
    "**Penjelasan:**\n",
    "\n",
    "* Metode ini menggunakan pendekatan **model checking**.\n",
    "* Semua kemungkinan model dieksplorasi, yaitu semua kombinasi nilai benar/salah dari simbol-simbol proposisional di dalam KB.\n",
    "* Untuk setiap model, dicek apakah KB bernilai benar. Jika benar, maka dicek juga apakah $\\alpha$ bernilai benar di model tersebut.\n",
    "* Jika dalam semua model di mana KB benar, $\\alpha$ juga benar, maka dapat disimpulkan bahwa $KB \\models \\alpha$.\n",
    "* Jumlah model yang harus dicek adalah $2^n$, dengan $n$ = jumlah simbol dalam KB.\n",
    "\n",
    "```python\n",
    "psource(tt_check_all)\n",
    "```\n",
    "\n",
    "Kode di atas digunakan untuk menampilkan implementasi fungsi `tt_check_all`, yaitu fungsi yang melakukan pengecekan truth table enumeration.\n",
    "\n",
    "\n"
   ]
  },
  {
   "cell_type": "code",
   "execution_count": 23,
   "metadata": {},
   "outputs": [
    {
     "data": {
      "text/html": [
       "<!DOCTYPE html PUBLIC \"-//W3C//DTD HTML 4.01//EN\"\n",
       "   \"http://www.w3.org/TR/html4/strict.dtd\">\n",
       "<!--\n",
       "generated by Pygments <https://pygments.org/>\n",
       "Copyright 2006-2025 by the Pygments team.\n",
       "Licensed under the BSD license, see LICENSE for details.\n",
       "-->\n",
       "<html>\n",
       "<head>\n",
       "  <title></title>\n",
       "  <meta http-equiv=\"content-type\" content=\"text/html; charset=None\">\n",
       "  <style type=\"text/css\">\n",
       "/*\n",
       "generated by Pygments <https://pygments.org/>\n",
       "Copyright 2006-2025 by the Pygments team.\n",
       "Licensed under the BSD license, see LICENSE for details.\n",
       "*/\n",
       "pre { line-height: 125%; }\n",
       "td.linenos .normal { color: inherit; background-color: transparent; padding-left: 5px; padding-right: 5px; }\n",
       "span.linenos { color: inherit; background-color: transparent; padding-left: 5px; padding-right: 5px; }\n",
       "td.linenos .special { color: #000000; background-color: #ffffc0; padding-left: 5px; padding-right: 5px; }\n",
       "span.linenos.special { color: #000000; background-color: #ffffc0; padding-left: 5px; padding-right: 5px; }\n",
       "body .hll { background-color: #ffffcc }\n",
       "body { background: #f8f8f8; }\n",
       "body .c { color: #3D7B7B; font-style: italic } /* Comment */\n",
       "body .err { border: 1px solid #F00 } /* Error */\n",
       "body .k { color: #008000; font-weight: bold } /* Keyword */\n",
       "body .o { color: #666 } /* Operator */\n",
       "body .ch { color: #3D7B7B; font-style: italic } /* Comment.Hashbang */\n",
       "body .cm { color: #3D7B7B; font-style: italic } /* Comment.Multiline */\n",
       "body .cp { color: #9C6500 } /* Comment.Preproc */\n",
       "body .cpf { color: #3D7B7B; font-style: italic } /* Comment.PreprocFile */\n",
       "body .c1 { color: #3D7B7B; font-style: italic } /* Comment.Single */\n",
       "body .cs { color: #3D7B7B; font-style: italic } /* Comment.Special */\n",
       "body .gd { color: #A00000 } /* Generic.Deleted */\n",
       "body .ge { font-style: italic } /* Generic.Emph */\n",
       "body .ges { font-weight: bold; font-style: italic } /* Generic.EmphStrong */\n",
       "body .gr { color: #E40000 } /* Generic.Error */\n",
       "body .gh { color: #000080; font-weight: bold } /* Generic.Heading */\n",
       "body .gi { color: #008400 } /* Generic.Inserted */\n",
       "body .go { color: #717171 } /* Generic.Output */\n",
       "body .gp { color: #000080; font-weight: bold } /* Generic.Prompt */\n",
       "body .gs { font-weight: bold } /* Generic.Strong */\n",
       "body .gu { color: #800080; font-weight: bold } /* Generic.Subheading */\n",
       "body .gt { color: #04D } /* Generic.Traceback */\n",
       "body .kc { color: #008000; font-weight: bold } /* Keyword.Constant */\n",
       "body .kd { color: #008000; font-weight: bold } /* Keyword.Declaration */\n",
       "body .kn { color: #008000; font-weight: bold } /* Keyword.Namespace */\n",
       "body .kp { color: #008000 } /* Keyword.Pseudo */\n",
       "body .kr { color: #008000; font-weight: bold } /* Keyword.Reserved */\n",
       "body .kt { color: #B00040 } /* Keyword.Type */\n",
       "body .m { color: #666 } /* Literal.Number */\n",
       "body .s { color: #BA2121 } /* Literal.String */\n",
       "body .na { color: #687822 } /* Name.Attribute */\n",
       "body .nb { color: #008000 } /* Name.Builtin */\n",
       "body .nc { color: #00F; font-weight: bold } /* Name.Class */\n",
       "body .no { color: #800 } /* Name.Constant */\n",
       "body .nd { color: #A2F } /* Name.Decorator */\n",
       "body .ni { color: #717171; font-weight: bold } /* Name.Entity */\n",
       "body .ne { color: #CB3F38; font-weight: bold } /* Name.Exception */\n",
       "body .nf { color: #00F } /* Name.Function */\n",
       "body .nl { color: #767600 } /* Name.Label */\n",
       "body .nn { color: #00F; font-weight: bold } /* Name.Namespace */\n",
       "body .nt { color: #008000; font-weight: bold } /* Name.Tag */\n",
       "body .nv { color: #19177C } /* Name.Variable */\n",
       "body .ow { color: #A2F; font-weight: bold } /* Operator.Word */\n",
       "body .w { color: #BBB } /* Text.Whitespace */\n",
       "body .mb { color: #666 } /* Literal.Number.Bin */\n",
       "body .mf { color: #666 } /* Literal.Number.Float */\n",
       "body .mh { color: #666 } /* Literal.Number.Hex */\n",
       "body .mi { color: #666 } /* Literal.Number.Integer */\n",
       "body .mo { color: #666 } /* Literal.Number.Oct */\n",
       "body .sa { color: #BA2121 } /* Literal.String.Affix */\n",
       "body .sb { color: #BA2121 } /* Literal.String.Backtick */\n",
       "body .sc { color: #BA2121 } /* Literal.String.Char */\n",
       "body .dl { color: #BA2121 } /* Literal.String.Delimiter */\n",
       "body .sd { color: #BA2121; font-style: italic } /* Literal.String.Doc */\n",
       "body .s2 { color: #BA2121 } /* Literal.String.Double */\n",
       "body .se { color: #AA5D1F; font-weight: bold } /* Literal.String.Escape */\n",
       "body .sh { color: #BA2121 } /* Literal.String.Heredoc */\n",
       "body .si { color: #A45A77; font-weight: bold } /* Literal.String.Interpol */\n",
       "body .sx { color: #008000 } /* Literal.String.Other */\n",
       "body .sr { color: #A45A77 } /* Literal.String.Regex */\n",
       "body .s1 { color: #BA2121 } /* Literal.String.Single */\n",
       "body .ss { color: #19177C } /* Literal.String.Symbol */\n",
       "body .bp { color: #008000 } /* Name.Builtin.Pseudo */\n",
       "body .fm { color: #00F } /* Name.Function.Magic */\n",
       "body .vc { color: #19177C } /* Name.Variable.Class */\n",
       "body .vg { color: #19177C } /* Name.Variable.Global */\n",
       "body .vi { color: #19177C } /* Name.Variable.Instance */\n",
       "body .vm { color: #19177C } /* Name.Variable.Magic */\n",
       "body .il { color: #666 } /* Literal.Number.Integer.Long */\n",
       "\n",
       "  </style>\n",
       "</head>\n",
       "<body>\n",
       "<h2></h2>\n",
       "\n",
       "<div class=\"highlight\"><pre><span></span><span class=\"k\">def</span><span class=\"w\"> </span><span class=\"nf\">tt_check_all</span><span class=\"p\">(</span><span class=\"n\">kb</span><span class=\"p\">,</span> <span class=\"n\">alpha</span><span class=\"p\">,</span> <span class=\"n\">symbols</span><span class=\"p\">,</span> <span class=\"n\">model</span><span class=\"p\">):</span>\n",
       "<span class=\"w\">    </span><span class=\"sd\">&quot;&quot;&quot;Auxiliary routine to implement tt_entails.&quot;&quot;&quot;</span>\n",
       "    <span class=\"k\">if</span> <span class=\"ow\">not</span> <span class=\"n\">symbols</span><span class=\"p\">:</span>\n",
       "        <span class=\"k\">if</span> <span class=\"n\">pl_true</span><span class=\"p\">(</span><span class=\"n\">kb</span><span class=\"p\">,</span> <span class=\"n\">model</span><span class=\"p\">):</span>\n",
       "            <span class=\"n\">result</span> <span class=\"o\">=</span> <span class=\"n\">pl_true</span><span class=\"p\">(</span><span class=\"n\">alpha</span><span class=\"p\">,</span> <span class=\"n\">model</span><span class=\"p\">)</span>\n",
       "            <span class=\"k\">assert</span> <span class=\"n\">result</span> <span class=\"ow\">in</span> <span class=\"p\">(</span><span class=\"kc\">True</span><span class=\"p\">,</span> <span class=\"kc\">False</span><span class=\"p\">)</span>\n",
       "            <span class=\"k\">return</span> <span class=\"n\">result</span>\n",
       "        <span class=\"k\">else</span><span class=\"p\">:</span>\n",
       "            <span class=\"k\">return</span> <span class=\"kc\">True</span>\n",
       "    <span class=\"k\">else</span><span class=\"p\">:</span>\n",
       "        <span class=\"n\">P</span><span class=\"p\">,</span> <span class=\"n\">rest</span> <span class=\"o\">=</span> <span class=\"n\">symbols</span><span class=\"p\">[</span><span class=\"mi\">0</span><span class=\"p\">],</span> <span class=\"n\">symbols</span><span class=\"p\">[</span><span class=\"mi\">1</span><span class=\"p\">:]</span>\n",
       "        <span class=\"k\">return</span> <span class=\"p\">(</span><span class=\"n\">tt_check_all</span><span class=\"p\">(</span><span class=\"n\">kb</span><span class=\"p\">,</span> <span class=\"n\">alpha</span><span class=\"p\">,</span> <span class=\"n\">rest</span><span class=\"p\">,</span> <span class=\"n\">extend</span><span class=\"p\">(</span><span class=\"n\">model</span><span class=\"p\">,</span> <span class=\"n\">P</span><span class=\"p\">,</span> <span class=\"kc\">True</span><span class=\"p\">))</span> <span class=\"ow\">and</span>\n",
       "                <span class=\"n\">tt_check_all</span><span class=\"p\">(</span><span class=\"n\">kb</span><span class=\"p\">,</span> <span class=\"n\">alpha</span><span class=\"p\">,</span> <span class=\"n\">rest</span><span class=\"p\">,</span> <span class=\"n\">extend</span><span class=\"p\">(</span><span class=\"n\">model</span><span class=\"p\">,</span> <span class=\"n\">P</span><span class=\"p\">,</span> <span class=\"kc\">False</span><span class=\"p\">)))</span>\n",
       "</pre></div>\n",
       "</body>\n",
       "</html>\n"
      ],
      "text/plain": [
       "<IPython.core.display.HTML object>"
      ]
     },
     "metadata": {},
     "output_type": "display_data"
    }
   ],
   "source": [
    "psource(tt_check_all)"
   ]
  },
  {
   "cell_type": "markdown",
   "metadata": {},
   "source": [
    "Algoritma ini pada dasarnya menghitung setiap baris dari tabel kebenaran $KB \\implies \\alpha$ dan memeriksa apakah ekspresi tersebut benar di semua baris. <br>\n",
    "Jika simbol-simbol sudah didefinisikan, prosedur akan secara rekursif membangun semua kombinasi nilai kebenaran untuk simbol-simbol tersebut, lalu memeriksa apakah `model` konsisten dengan `kb`.\n",
    "Model-model yang diperoleh sesuai dengan baris-baris pada tabel kebenaran yang memiliki nilai `true` pada kolom KB, dan pada baris tersebut kemudian diperiksa apakah query juga bernilai benar. <br>\n",
    "`result = pl_true(alpha, model)`. <br>\n",
    "Secara singkat, `tt_check_all` mengevaluasi ekspresi logika berikut untuk setiap `model`: <br>\n",
    "`pl_true(kb, model) => pl_true(alpha, model)` <br>\n",
    "yang secara logis ekuivalen dengan: <br>\n",
    "`pl_true(kb, model) & ~pl_true(alpha, model)` <br>\n",
    "Artinya, knowledge base dan negasi dari query bersifat tidak konsisten secara logis. <br>\n",
    "Fungsi `tt_entails()` hanya mengambil simbol-simbol dari query, lalu memanggil `tt_check_all()` dengan parameter yang sesuai.\n"
   ]
  },
  {
   "cell_type": "code",
   "execution_count": 101,
   "metadata": {},
   "outputs": [
    {
     "data": {
      "text/html": [
       "<!DOCTYPE html PUBLIC \"-//W3C//DTD HTML 4.01//EN\"\n",
       "   \"http://www.w3.org/TR/html4/strict.dtd\">\n",
       "<!--\n",
       "generated by Pygments <https://pygments.org/>\n",
       "Copyright 2006-2025 by the Pygments team.\n",
       "Licensed under the BSD license, see LICENSE for details.\n",
       "-->\n",
       "<html>\n",
       "<head>\n",
       "  <title></title>\n",
       "  <meta http-equiv=\"content-type\" content=\"text/html; charset=None\">\n",
       "  <style type=\"text/css\">\n",
       "/*\n",
       "generated by Pygments <https://pygments.org/>\n",
       "Copyright 2006-2025 by the Pygments team.\n",
       "Licensed under the BSD license, see LICENSE for details.\n",
       "*/\n",
       "pre { line-height: 125%; }\n",
       "td.linenos .normal { color: inherit; background-color: transparent; padding-left: 5px; padding-right: 5px; }\n",
       "span.linenos { color: inherit; background-color: transparent; padding-left: 5px; padding-right: 5px; }\n",
       "td.linenos .special { color: #000000; background-color: #ffffc0; padding-left: 5px; padding-right: 5px; }\n",
       "span.linenos.special { color: #000000; background-color: #ffffc0; padding-left: 5px; padding-right: 5px; }\n",
       "body .hll { background-color: #ffffcc }\n",
       "body { background: #f8f8f8; }\n",
       "body .c { color: #3D7B7B; font-style: italic } /* Comment */\n",
       "body .err { border: 1px solid #F00 } /* Error */\n",
       "body .k { color: #008000; font-weight: bold } /* Keyword */\n",
       "body .o { color: #666 } /* Operator */\n",
       "body .ch { color: #3D7B7B; font-style: italic } /* Comment.Hashbang */\n",
       "body .cm { color: #3D7B7B; font-style: italic } /* Comment.Multiline */\n",
       "body .cp { color: #9C6500 } /* Comment.Preproc */\n",
       "body .cpf { color: #3D7B7B; font-style: italic } /* Comment.PreprocFile */\n",
       "body .c1 { color: #3D7B7B; font-style: italic } /* Comment.Single */\n",
       "body .cs { color: #3D7B7B; font-style: italic } /* Comment.Special */\n",
       "body .gd { color: #A00000 } /* Generic.Deleted */\n",
       "body .ge { font-style: italic } /* Generic.Emph */\n",
       "body .ges { font-weight: bold; font-style: italic } /* Generic.EmphStrong */\n",
       "body .gr { color: #E40000 } /* Generic.Error */\n",
       "body .gh { color: #000080; font-weight: bold } /* Generic.Heading */\n",
       "body .gi { color: #008400 } /* Generic.Inserted */\n",
       "body .go { color: #717171 } /* Generic.Output */\n",
       "body .gp { color: #000080; font-weight: bold } /* Generic.Prompt */\n",
       "body .gs { font-weight: bold } /* Generic.Strong */\n",
       "body .gu { color: #800080; font-weight: bold } /* Generic.Subheading */\n",
       "body .gt { color: #04D } /* Generic.Traceback */\n",
       "body .kc { color: #008000; font-weight: bold } /* Keyword.Constant */\n",
       "body .kd { color: #008000; font-weight: bold } /* Keyword.Declaration */\n",
       "body .kn { color: #008000; font-weight: bold } /* Keyword.Namespace */\n",
       "body .kp { color: #008000 } /* Keyword.Pseudo */\n",
       "body .kr { color: #008000; font-weight: bold } /* Keyword.Reserved */\n",
       "body .kt { color: #B00040 } /* Keyword.Type */\n",
       "body .m { color: #666 } /* Literal.Number */\n",
       "body .s { color: #BA2121 } /* Literal.String */\n",
       "body .na { color: #687822 } /* Name.Attribute */\n",
       "body .nb { color: #008000 } /* Name.Builtin */\n",
       "body .nc { color: #00F; font-weight: bold } /* Name.Class */\n",
       "body .no { color: #800 } /* Name.Constant */\n",
       "body .nd { color: #A2F } /* Name.Decorator */\n",
       "body .ni { color: #717171; font-weight: bold } /* Name.Entity */\n",
       "body .ne { color: #CB3F38; font-weight: bold } /* Name.Exception */\n",
       "body .nf { color: #00F } /* Name.Function */\n",
       "body .nl { color: #767600 } /* Name.Label */\n",
       "body .nn { color: #00F; font-weight: bold } /* Name.Namespace */\n",
       "body .nt { color: #008000; font-weight: bold } /* Name.Tag */\n",
       "body .nv { color: #19177C } /* Name.Variable */\n",
       "body .ow { color: #A2F; font-weight: bold } /* Operator.Word */\n",
       "body .w { color: #BBB } /* Text.Whitespace */\n",
       "body .mb { color: #666 } /* Literal.Number.Bin */\n",
       "body .mf { color: #666 } /* Literal.Number.Float */\n",
       "body .mh { color: #666 } /* Literal.Number.Hex */\n",
       "body .mi { color: #666 } /* Literal.Number.Integer */\n",
       "body .mo { color: #666 } /* Literal.Number.Oct */\n",
       "body .sa { color: #BA2121 } /* Literal.String.Affix */\n",
       "body .sb { color: #BA2121 } /* Literal.String.Backtick */\n",
       "body .sc { color: #BA2121 } /* Literal.String.Char */\n",
       "body .dl { color: #BA2121 } /* Literal.String.Delimiter */\n",
       "body .sd { color: #BA2121; font-style: italic } /* Literal.String.Doc */\n",
       "body .s2 { color: #BA2121 } /* Literal.String.Double */\n",
       "body .se { color: #AA5D1F; font-weight: bold } /* Literal.String.Escape */\n",
       "body .sh { color: #BA2121 } /* Literal.String.Heredoc */\n",
       "body .si { color: #A45A77; font-weight: bold } /* Literal.String.Interpol */\n",
       "body .sx { color: #008000 } /* Literal.String.Other */\n",
       "body .sr { color: #A45A77 } /* Literal.String.Regex */\n",
       "body .s1 { color: #BA2121 } /* Literal.String.Single */\n",
       "body .ss { color: #19177C } /* Literal.String.Symbol */\n",
       "body .bp { color: #008000 } /* Name.Builtin.Pseudo */\n",
       "body .fm { color: #00F } /* Name.Function.Magic */\n",
       "body .vc { color: #19177C } /* Name.Variable.Class */\n",
       "body .vg { color: #19177C } /* Name.Variable.Global */\n",
       "body .vi { color: #19177C } /* Name.Variable.Instance */\n",
       "body .vm { color: #19177C } /* Name.Variable.Magic */\n",
       "body .il { color: #666 } /* Literal.Number.Integer.Long */\n",
       "\n",
       "  </style>\n",
       "</head>\n",
       "<body>\n",
       "<h2></h2>\n",
       "\n",
       "<div class=\"highlight\"><pre><span></span><span class=\"k\">def</span><span class=\"w\"> </span><span class=\"nf\">tt_entails</span><span class=\"p\">(</span><span class=\"n\">kb</span><span class=\"p\">,</span> <span class=\"n\">alpha</span><span class=\"p\">):</span>\n",
       "<span class=\"w\">    </span><span class=\"sd\">&quot;&quot;&quot;</span>\n",
       "<span class=\"sd\">    [Figure 7.10]</span>\n",
       "<span class=\"sd\">    Does kb entail the sentence alpha? Use truth tables. For propositional</span>\n",
       "<span class=\"sd\">    kb&#39;s and sentences. Note that the &#39;kb&#39; should be an Expr which is a</span>\n",
       "<span class=\"sd\">    conjunction of clauses.</span>\n",
       "<span class=\"sd\">    &gt;&gt;&gt; tt_entails(expr(&#39;P &amp; Q&#39;), expr(&#39;Q&#39;))</span>\n",
       "<span class=\"sd\">    True</span>\n",
       "<span class=\"sd\">    &quot;&quot;&quot;</span>\n",
       "    <span class=\"k\">assert</span> <span class=\"ow\">not</span> <span class=\"n\">variables</span><span class=\"p\">(</span><span class=\"n\">alpha</span><span class=\"p\">)</span>\n",
       "    <span class=\"n\">symbols</span> <span class=\"o\">=</span> <span class=\"nb\">list</span><span class=\"p\">(</span><span class=\"n\">prop_symbols</span><span class=\"p\">(</span><span class=\"n\">kb</span> <span class=\"o\">&amp;</span> <span class=\"n\">alpha</span><span class=\"p\">))</span>\n",
       "    <span class=\"k\">return</span> <span class=\"n\">tt_check_all</span><span class=\"p\">(</span><span class=\"n\">kb</span><span class=\"p\">,</span> <span class=\"n\">alpha</span><span class=\"p\">,</span> <span class=\"n\">symbols</span><span class=\"p\">,</span> <span class=\"p\">{})</span>\n",
       "</pre></div>\n",
       "</body>\n",
       "</html>\n"
      ],
      "text/plain": [
       "<IPython.core.display.HTML object>"
      ]
     },
     "metadata": {},
     "output_type": "display_data"
    }
   ],
   "source": [
    "psource(tt_entails)"
   ]
  },
  {
   "cell_type": "markdown",
   "metadata": {},
   "source": [
    "## Contoh Penggunaan `tt_entails()`\n",
    "\n",
    "**Tujuan:**\n",
    "Menunjukkan bagaimana fungsi `tt_entails` bekerja dalam kasus sederhana dengan simbol proposisional $P$ dan $Q$.\n",
    "\n",
    "```python\n",
    "tt_entails(P & Q, Q)\n",
    "```\n",
    "\n",
    "**Penjelasan:**\n",
    "\n",
    "* `tt_entails(P & Q, Q)` → memeriksa apakah dari knowledge base $P \\land Q$, dapat disimpulkan bahwa $Q$ bernilai benar.\n",
    "* Secara logika, jika $P \\land Q$ benar, maka otomatis $Q$ juga benar.\n",
    "* Output yang diberikan adalah **True**, artinya $KB \\models Q$.\n",
    "* Hal ini sesuai dengan aturan dasar logika proposisional: sebuah konjungsi ($P \\land Q$) akan meng-*entail* masing-masing komponennya ($P$ dan $Q$).\n",
    "\n"
   ]
  },
  {
   "cell_type": "code",
   "execution_count": 25,
   "metadata": {},
   "outputs": [
    {
     "data": {
      "text/plain": [
       "True"
      ]
     },
     "execution_count": 25,
     "metadata": {},
     "output_type": "execute_result"
    }
   ],
   "source": [
    "tt_entails(P & Q, Q)"
   ]
  },
  {
   "cell_type": "markdown",
   "metadata": {},
   "source": [
    "## Contoh `tt_entails` dengan Disjungsi\n",
    "\n",
    "**Tujuan:**\n",
    "Mengilustrasikan bagaimana `tt_entails` bekerja saat basis pengetahuan berupa disjungsi ($P \\lor Q$).\n",
    "\n",
    "```python\n",
    "tt_entails(P | Q, Q)\n",
    "```\n",
    "\n",
    "**Penjelasan:**\n",
    "\n",
    "* `tt_entails(P | Q, Q)` → memeriksa apakah dari knowledge base $P \\lor Q$, dapat disimpulkan bahwa $Q$ benar.\n",
    "* Hasil yang diberikan adalah **False**.\n",
    "* Alasannya: dari $P \\lor Q$, kita hanya tahu **salah satu** dari $P$ atau $Q$ benar, tetapi tidak dapat memastikan bahwa $Q$ selalu benar.\n",
    "* Contoh: jika $P = True$ dan $Q = False$, maka $P \\lor Q = True$, tetapi query $Q$ bernilai False.\n",
    "* Maka, $KB = (P \\lor Q)$ **tidak meng-entail** $Q$.\n",
    "* `tt_entails(P | Q, P)` → memeriksa apakah dari knowledge base $P \\lor Q$, dapat disimpulkan bahwa $P$ bernilai benar.\n",
    "* Hasilnya adalah **False**.\n",
    "* Alasannya mirip dengan kasus sebelumnya: dari $P \\lor Q$, kita tahu paling tidak salah satu dari $P$ atau $Q$ benar, tetapi tidak bisa dipastikan bahwa $P$ selalu benar.\n",
    "* Contoh: jika $P = False$ dan $Q = True$, maka $P \\lor Q = True$, tetapi query $P$ bernilai False.\n",
    "* Jadi, $KB = (P \\lor Q)$ tidak meng-entail $P$.\n",
    "\n"
   ]
  },
  {
   "cell_type": "code",
   "execution_count": 26,
   "metadata": {},
   "outputs": [
    {
     "data": {
      "text/plain": [
       "False"
      ]
     },
     "execution_count": 26,
     "metadata": {},
     "output_type": "execute_result"
    }
   ],
   "source": [
    "tt_entails(P | Q, Q)"
   ]
  },
  {
   "cell_type": "code",
   "execution_count": 27,
   "metadata": {},
   "outputs": [
    {
     "data": {
      "text/plain": [
       "False"
      ]
     },
     "execution_count": 27,
     "metadata": {},
     "output_type": "execute_result"
    }
   ],
   "source": [
    "tt_entails(P | Q, P)"
   ]
  },
  {
   "cell_type": "markdown",
   "metadata": {},
   "source": [
    "## Contoh Kompleks dengan `tt_entails`\n",
    "\n",
    "**Tujuan:**\n",
    "Menguji entailment pada kasus yang lebih rumit dengan banyak simbol proposisional.\n",
    "\n",
    "```python\n",
    "(A, B, C, D, E, F, G) = symbols('A, B, C, D, E, F, G')\n",
    "tt_entails(A & (B | C) & D & E & ~(F | G), A & D & E & ~F & ~G)\n",
    "```\n",
    "\n",
    "**Penjelasan:**\n",
    "\n",
    "* Pertama, dibuat tujuh simbol proposisional: **A, B, C, D, E, F, G**.\n",
    "* Basis pengetahuan (KB) yang digunakan:\n",
    "\n",
    "  $$\n",
    "  A \\land (B \\lor C) \\land D \\land E \\land \\neg (F \\lor G)\n",
    "  $$\n",
    "\n",
    "  Artinya:\n",
    "\n",
    "  * $A$, $D$, dan $E$ bernilai benar.\n",
    "  * Minimal salah satu dari $B$ atau $C$ bernilai benar.\n",
    "  * Baik $F$ maupun $G$ bernilai salah.\n",
    "* Query yang dicek:\n",
    "\n",
    "  $$\n",
    "  A \\land D \\land E \\land \\neg F \\land \\neg G\n",
    "  $$\n",
    "* Karena semua kondisi di query sudah tercakup dalam KB (ditambah KB punya informasi ekstra tentang $B \\lor C$), hasil entailment adalah **True**.\n",
    "* Dengan kata lain, query tersebut memang konsisten dan dapat disimpulkan dari knowledge base yang ada.\n"
   ]
  },
  {
   "cell_type": "code",
   "execution_count": 28,
   "metadata": {},
   "outputs": [
    {
     "data": {
      "text/plain": [
       "True"
      ]
     },
     "execution_count": 28,
     "metadata": {},
     "output_type": "execute_result"
    }
   ],
   "source": [
    "(A, B, C, D, E, F, G) = symbols('A, B, C, D, E, F, G')\n",
    "tt_entails(A & (B | C) & D & E & ~(F | G), A & D & E & ~F & ~G)"
   ]
  },
  {
   "cell_type": "markdown",
   "metadata": {},
   "source": [
    "Kita dapat melihat bahwa agar **KB** bernilai benar, $A$, $D$, dan $E$ harus bernilai **True**, sedangkan $F$ dan $G$ harus bernilai **False**.\n",
    "Tidak ada kesimpulan yang dapat diambil mengenai nilai kebenaran $B$ atau $C$.\n"
   ]
  },
  {
   "cell_type": "markdown",
   "metadata": {},
   "source": [
    "Kembali ke permasalahan kita, perlu dicatat bahwa `tt_entails()` menerima sebuah `Expr` yang berupa konjungsi dari klausa sebagai input, bukan langsung objek `KB` itu sendiri.\n",
    "Kita dapat menggunakan metode `ask_if_true()` dari `PropKB` yang akan melakukan semua konversi yang diperlukan secara otomatis.\n",
    "Sekarang mari kita periksa apa yang dapat diberitahukan oleh `wumpus_kb` mengenai $P_{1,1}$.\n"
   ]
  },
  {
   "cell_type": "code",
   "execution_count": 102,
   "metadata": {},
   "outputs": [
    {
     "data": {
      "text/plain": [
       "(True, False)"
      ]
     },
     "execution_count": 102,
     "metadata": {},
     "output_type": "execute_result"
    }
   ],
   "source": [
    "wumpus_kb.ask_if_true(~P11), wumpus_kb.ask_if_true(P11)"
   ]
  },
  {
   "cell_type": "markdown",
   "metadata": {},
   "source": [
    "## Menggunakan `ask_if_true()` pada Simbol Lain\n",
    "\n",
    "**Tujuan:**\n",
    "Menguji apakah basis pengetahuan Wumpus dapat menyimpulkan kebenaran atau kesalahan untuk proposisi tertentu selain $P_{1,1}$, misalnya $P_{2,2}$ dan $P_{3,1}$.\n",
    "\n",
    "```python\n",
    "wumpus_kb.ask_if_true(~P22), wumpus_kb.ask_if_true(P22)\n",
    "```\n",
    "\n",
    "**Penjelasan:**\n",
    "\n",
    "* Hasil yang diperoleh adalah **(False, False)**.\n",
    "* Artinya, dari knowledge base yang ada, sistem **tidak bisa memastikan** apakah $P_{2,2}$ bernilai benar atau salah.\n",
    "* `ask_if_true(~P22)` mengembalikan **False** → tidak ada cukup informasi untuk menyimpulkan bahwa di sel (2,2) pasti **tidak ada pit**.\n",
    "* `ask_if_true(P22)` juga mengembalikan **False** → tidak ada cukup informasi untuk menyimpulkan bahwa di sel (2,2) pasti **ada pit**.\n",
    "* Jadi, pada tahap ini agen hanya tahu bahwa $P_{2,2}$ **masih tidak pasti** (unknown) berdasarkan fakta dan aturan yang sudah dimasukkan.\n"
   ]
  },
  {
   "cell_type": "code",
   "execution_count": 30,
   "metadata": {},
   "outputs": [
    {
     "data": {
      "text/plain": [
       "(False, False)"
      ]
     },
     "execution_count": 30,
     "metadata": {},
     "output_type": "execute_result"
    }
   ],
   "source": [
    "wumpus_kb.ask_if_true(~P22), wumpus_kb.ask_if_true(P22)"
   ]
  }
 ],
 "metadata": {
  "kernelspec": {
   "display_name": "CI (3.12.1)",
   "language": "python",
   "name": "python3"
  },
  "language_info": {
   "codemirror_mode": {
    "name": "ipython",
    "version": 3
   },
   "file_extension": ".py",
   "mimetype": "text/x-python",
   "name": "python",
   "nbconvert_exporter": "python",
   "pygments_lexer": "ipython3",
   "version": "3.12.1"
  }
 },
 "nbformat": 4,
 "nbformat_minor": 1
}
